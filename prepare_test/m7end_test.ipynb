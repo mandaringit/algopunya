{
 "cells": [
  {
   "cell_type": "code",
   "execution_count": 5,
   "metadata": {},
   "outputs": [
    {
     "name": "stdout",
     "output_type": "stream",
     "text": [
      "{'opening_price': '11286000', 'closing_price': '11650000', 'min_price': '11254000', 'max_price': '11686000', 'average_price': '11440756.2325', 'units_traded': '3977.92246372', 'volume_1day': '3977.92246372', 'volume_7day': '30135.75109339', 'buy_price': '11643000', 'sell_price': '11650000', '24H_fluctate': '364000', '24H_fluctate_rate': '3.22', 'date': '1564577221308'}\n"
     ]
    }
   ],
   "source": [
    "#1. 상승장 하락장\n",
    "import requests\n",
    "\n",
    "url = \"https://api.bithumb.com/public/ticker/btc\"\n",
    "data = requests.get(url).json()['data']\n",
    "print(data)"
   ]
  },
  {
   "cell_type": "code",
   "execution_count": 8,
   "metadata": {},
   "outputs": [
    {
     "name": "stdout",
     "output_type": "stream",
     "text": [
      "상승장\n"
     ]
    }
   ],
   "source": [
    "max_price = int(data['max_price'])\n",
    "min_price = int(data['min_price'])\n",
    "\n",
    "moving_width = max_price - min_price # 변동폭\n",
    "\n",
    "start_price = int(data['opening_price'])\n",
    "\n",
    "if start_price + moving_width > max_price:\n",
    "    print('상승장')\n",
    "else:\n",
    "    print('하락장')"
   ]
  },
  {
   "cell_type": "code",
   "execution_count": 10,
   "metadata": {},
   "outputs": [
    {
     "name": "stdout",
     "output_type": "stream",
     "text": [
      "Lf s t shrt, y nd pythn\n"
     ]
    }
   ],
   "source": [
    "# 2. 모음 제거하기\n",
    "my_str = \"Life is too short, you need python\"\n",
    "vowels = 'aeiou'\n",
    "\n",
    "result = \"\"\n",
    "for char in my_str:\n",
    "    if char not in vowels:\n",
    "        result += char\n",
    "print(result)"
   ]
  },
  {
   "cell_type": "code",
   "execution_count": 26,
   "metadata": {},
   "outputs": [
    {
     "name": "stdout",
     "output_type": "stream",
     "text": [
      "01012341234\n",
      "*******1234\n"
     ]
    }
   ],
   "source": [
    "# 3. 개인정보보호\n",
    "phone_number = input()\n",
    "\n",
    "if phone_number[0:3] == '010' and len(phone_number) == 11:\n",
    "    print(\"*\"*7+phone_number[-4:])\n",
    "else:\n",
    "    print(\"핸드폰번호를 입력하세요\")"
   ]
  },
  {
   "cell_type": "code",
   "execution_count": 32,
   "metadata": {},
   "outputs": [
    {
     "name": "stdout",
     "output_type": "stream",
     "text": [
      "abcd\n",
      "bc\n"
     ]
    }
   ],
   "source": [
    "# 4. 정중앙\n",
    "text = input()\n",
    "text_len = len(text)\n",
    "\n",
    "half = text_len//2\n",
    "\n",
    "#홀\n",
    "if text_len % 2:\n",
    "    print(text[half])\n",
    "else:\n",
    "    print(text[half-1:half+1])"
   ]
  },
  {
   "cell_type": "code",
   "execution_count": 40,
   "metadata": {},
   "outputs": [],
   "source": [
    "# 5. 모든코인 상승장? 하락장?\n",
    "import requests\n",
    "\n",
    "url = \"https://api.bithumb.com/public/ticker/all\"\n",
    "data = requests.get(url).json()['data']"
   ]
  },
  {
   "cell_type": "code",
   "execution_count": 41,
   "metadata": {},
   "outputs": [
    {
     "name": "stdout",
     "output_type": "stream",
     "text": [
      "BTC : 상승장\n",
      "ETH : 상승장\n",
      "DASH : 상승장\n",
      "LTC : 상승장\n",
      "ETC : 상승장\n",
      "XRP : 상승장\n",
      "BCH : 상승장\n",
      "XMR : 상승장\n",
      "ZEC : 상승장\n",
      "QTUM : 상승장\n",
      "BTG : 상승장\n",
      "EOS : 상승장\n",
      "ICX : 상승장\n",
      "VET : 상승장\n",
      "TRX : 상승장\n",
      "ELF : 상승장\n",
      "MITH : 상승장\n",
      "MCO : 상승장\n",
      "OMG : 상승장\n",
      "KNC : 상승장\n",
      "GNT : 상승장\n",
      "ZIL : 상승장\n",
      "ETHOS : 상승장\n",
      "PAY : 상승장\n",
      "WAX : 상승장\n",
      "POWR : 상승장\n",
      "LRC : 상승장\n",
      "GTO : 상승장\n",
      "STEEM : 상승장\n",
      "STRAT : 상승장\n",
      "ZRX : 상승장\n",
      "REP : 상승장\n",
      "AE : 상승장\n",
      "XEM : 상승장\n",
      "SNT : 상승장\n",
      "ADA : 상승장\n",
      "PPT : 상승장\n",
      "CTXC : 상승장\n",
      "CMT : 상승장\n",
      "THETA : 상승장\n",
      "WTC : 상승장\n",
      "ITC : 상승장\n",
      "TRUE : 상승장\n",
      "ABT : 상승장\n",
      "RNT : 상승장\n",
      "PLY : 하락장\n",
      "WAVES : 상승장\n",
      "LINK : 상승장\n",
      "ENJ : 하락장\n",
      "PST : 상승장\n",
      "SALT : 상승장\n",
      "RDN : 상승장\n",
      "LOOM : 상승장\n",
      "PIVX : 상승장\n",
      "INS : 상승장\n",
      "BCD : 상승장\n",
      "BZNT : 상승장\n",
      "XLM : 상승장\n",
      "OCN : 상승장\n",
      "BSV : 상승장\n",
      "TMTG : 상승장\n",
      "BAT : 상승장\n",
      "WET : 상승장\n",
      "XVG : 상승장\n",
      "IOST : 상승장\n",
      "POLY : 상승장\n",
      "HC : 상승장\n",
      "ROM : 상승장\n",
      "AMO : 하락장\n",
      "ETZ : 상승장\n",
      "ARN : 상승장\n",
      "APIS : 상승장\n",
      "MTL : 상승장\n",
      "DACC : 상승장\n",
      "DAC : 상승장\n",
      "BHP : 상승장\n",
      "BTT : 상승장\n",
      "HDAC : 상승장\n",
      "NPXS : 상승장\n",
      "AUTO : 상승장\n",
      "GXC : 상승장\n",
      "ORBS : 상승장\n",
      "VALOR : 상승장\n",
      "CON : 상승장\n",
      "ANKR : 상승장\n",
      "MIX : 상승장\n",
      "HYC : 상승장\n",
      "LBA : 상승장\n",
      "LAMB : 상승장\n",
      "CRO : 상승장\n"
     ]
    }
   ],
   "source": [
    "for coin_name in data.keys():\n",
    "    if coin_name != 'date':\n",
    "        info = data[coin_name]\n",
    "        max_price = float(info['max_price'])\n",
    "        min_price = float(info['min_price'])\n",
    "        moving_width = max_price - min_price\n",
    "        opening_price = float(info['opening_price'])\n",
    "        \n",
    "        if opening_price + moving_width > max_price:\n",
    "            print(f\"{coin_name} : 상승장\")\n",
    "        else:\n",
    "            print(f\"{coin_name} : 하락장\")"
   ]
  },
  {
   "cell_type": "code",
   "execution_count": 44,
   "metadata": {},
   "outputs": [
    {
     "name": "stdout",
     "output_type": "stream",
     "text": [
      "평균 점수는 83.25점 입니다.\n"
     ]
    }
   ],
   "source": [
    "# 6. 평균점수\n",
    "student = {'python':80, 'algorithm':78, 'django':95, 'flask':80}\n",
    "\n",
    "total = 0\n",
    "for score in student.values():\n",
    "    total += score\n",
    "avg = total/len(student)\n",
    "print(f\"평균 점수는 {avg}점 입니다.\")"
   ]
  },
  {
   "cell_type": "code",
   "execution_count": 46,
   "metadata": {},
   "outputs": [
    {
     "name": "stdout",
     "output_type": "stream",
     "text": [
      "{'A': 5, 'B': 2, 'O': 4, 'AB': 3}\n"
     ]
    }
   ],
   "source": [
    "# 7. 혈액형\n",
    "bloods = ['A','A','B','O','A','B','A','AB','AB','O','A','O','AB','O']\n",
    "\n",
    "b_type_dict = {}\n",
    "\n",
    "for b_type in bloods:\n",
    "    if b_type in b_type_dict:\n",
    "        b_type_dict[b_type] += 1\n",
    "    else:\n",
    "        b_type_dict[b_type] = 1\n",
    "print(b_type_dict)"
   ]
  },
  {
   "cell_type": "code",
   "execution_count": 49,
   "metadata": {},
   "outputs": [
    {
     "name": "stdout",
     "output_type": "stream",
     "text": [
      "7번방의선물\n",
      "괴물\n",
      "도둑들\n",
      "베테랑\n",
      "아바타\n"
     ]
    }
   ],
   "source": [
    "# 8. UBD\n",
    "\n",
    "movies = {\n",
    "    \"7번방의선물\":12811206,\n",
    "    \"괴물\":13019740,\n",
    "    \"국제시장\":14257115,\n",
    "    \"극한직업\":16261018,\n",
    "    \"도둑들\":12983330,\n",
    "    \"명량\":17613682,\n",
    "    \"베테랑\":13414009,\n",
    "    \"신과함께-죄와벌\":14410754,\n",
    "    \"아바타\":13624328,\n",
    "    \"어벤져스:엔드게임\":13901423,\n",
    "}\n",
    "\n",
    "UBD = 172212\n",
    "\n",
    "for movie_name, watcher in movies.items():\n",
    "    if watcher < 80 * UBD:\n",
    "        print(f\"{movie_name}\")"
   ]
  },
  {
   "cell_type": "code",
   "execution_count": 56,
   "metadata": {},
   "outputs": [
    {
     "data": {
      "text/plain": [
       "2.3333333333333335"
      ]
     },
     "execution_count": 56,
     "metadata": {},
     "output_type": "execute_result"
    }
   ],
   "source": [
    "# 9. 버거지수\n",
    "locationA = {\n",
    "    'king': 2,\n",
    "    'mc': 4,\n",
    "    'kfc': 1,\n",
    "    'ria': 3\n",
    "}\n",
    "\n",
    "def burger_index(king,mc,kfc,ria):\n",
    "    return (king+mc+kfc) / ria\n",
    "\n",
    "burger_index(**locationA)"
   ]
  },
  {
   "cell_type": "code",
   "execution_count": 58,
   "metadata": {},
   "outputs": [
    {
     "name": "stdout",
     "output_type": "stream",
     "text": [
      "342.0\n"
     ]
    }
   ],
   "source": [
    "# 10. 종합소득세 계산하기\n",
    "def tax(money):\n",
    "    if money > 4600:\n",
    "        return (money - 4600) * 0.35 + 3400 * 0.15 + 1200 * 0.06\n",
    "    elif money > 1200:\n",
    "        return (money - 1200) * 0.15 + 1200 * 0.06\n",
    "    else:\n",
    "        return money * 0.06\n",
    "\n",
    "print(tax(3000))        "
   ]
  },
  {
   "cell_type": "code",
   "execution_count": 64,
   "metadata": {},
   "outputs": [
    {
     "name": "stdout",
     "output_type": "stream",
     "text": [
      "403\n",
      "https://api.telegram.org/bot123456:ABC-DEF1234ghIkl-zyx57W2v1u123ew11/getMe\n"
     ]
    }
   ],
   "source": [
    "# 11. 텔레그램 챗봇\n",
    "\n",
    "def telegram_url(token,method):\n",
    "    if len(token) != 41:\n",
    "        return '403'\n",
    "    \n",
    "    return f\"https://api.telegram.org/bot{token}/{method}\"\n",
    "\n",
    "print(telegram_url('123123:afjio;wef', 'getMe'))\n",
    "print(telegram_url('123456:ABC-DEF1234ghIkl-zyx57W2v1u123ew11', 'getMe'))"
   ]
  },
  {
   "cell_type": "code",
   "execution_count": 67,
   "metadata": {},
   "outputs": [
    {
     "data": {
      "text/plain": [
       "[4, 3]"
      ]
     },
     "execution_count": 67,
     "metadata": {},
     "output_type": "execute_result"
    }
   ],
   "source": [
    "# 12. 솔로 천국\n",
    "# 연속적으로 나타나는 숫자 제거\n",
    "\n",
    "def lonely(people):\n",
    "    solos = []\n",
    "    for idx,human in enumerate(people):\n",
    "        if idx != len(people) -1:\n",
    "            if human == people[idx+1]:\n",
    "                continue\n",
    "            else:\n",
    "                solos.append(human)\n",
    "        else:\n",
    "            solos.append(human)\n",
    "    return solos\n",
    "\n",
    "lonely([1, 1, 3, 3, 0, 1, 1])\n",
    "lonely([4,4,4,3,3])"
   ]
  },
  {
   "cell_type": "code",
   "execution_count": 69,
   "metadata": {},
   "outputs": [
    {
     "data": {
      "text/plain": [
       "3"
      ]
     },
     "execution_count": 69,
     "metadata": {},
     "output_type": "execute_result"
    }
   ],
   "source": [
    "# 13. 문자열 탐색\n",
    "def start_end(word_list):\n",
    "    count = 0\n",
    "    for word in word_list:\n",
    "        if len(word) >= 2 and word[0] == word[-1]:\n",
    "            count +=1\n",
    "    return count\n",
    "start_end(['level', 'asdwe', 's', 'abceda', 'gsdwrtfg'])"
   ]
  },
  {
   "cell_type": "code",
   "execution_count": 14,
   "metadata": {},
   "outputs": [
    {
     "data": {
      "text/plain": [
       "(21, 52479)"
      ]
     },
     "execution_count": 14,
     "metadata": {},
     "output_type": "execute_result"
    }
   ],
   "source": [
    "# 14. 최대공약수(gcd), 최소공배수(lcm) 구하기\n",
    "def gcdlcm(num1,num2):\n",
    "    gcd = 1\n",
    "    for i in range(1,num1+1):\n",
    "        if num1 % i == 0:\n",
    "            if num2 % i == 0:\n",
    "                gcd = i\n",
    "    \n",
    "    lcm = round((num1 * num2) / gcd)\n",
    "    \n",
    "    return gcd,lcm\n",
    "\n",
    "gcdlcm(3,12)\n",
    "gcdlcm(1071,1029)"
   ]
  },
  {
   "cell_type": "code",
   "execution_count": 81,
   "metadata": {},
   "outputs": [
    {
     "data": {
      "text/plain": [
       "-1"
      ]
     },
     "execution_count": 81,
     "metadata": {},
     "output_type": "execute_result"
    }
   ],
   "source": [
    "# 15. Collatz 추측\n",
    "\n",
    "def collatz(n):\n",
    "    count = 0\n",
    "    \n",
    "    while n != 1:\n",
    "        \n",
    "        if count >= 500:\n",
    "            return -1\n",
    "        \n",
    "        count +=1\n",
    "        \n",
    "        if n % 2 :\n",
    "            n = n * 3 + 1\n",
    "        else:\n",
    "            n = n / 2\n",
    "            \n",
    "    return count\n",
    "\n",
    "collatz(6) #=> 8\n",
    "collatz(16) #=> 4\n",
    "collatz(27) #=> 111\n",
    "collatz(626331) #=> -1"
   ]
  },
  {
   "cell_type": "code",
   "execution_count": 1,
   "metadata": {},
   "outputs": [
    {
     "data": {
      "text/plain": [
       "0"
      ]
     },
     "execution_count": 1,
     "metadata": {},
     "output_type": "execute_result"
    }
   ],
   "source": [
    "# 16. 이상한 덧셈\n",
    "def positive_sum(*args):\n",
    "    total = 0\n",
    "    for num in args:\n",
    "        if num > 0:\n",
    "            total += num\n",
    "    return total\n",
    "\n",
    "positive_sum(1,-4,7,12)\n",
    "positive_sum(-1,-2,-3,-4)"
   ]
  },
  {
   "cell_type": "code",
   "execution_count": 13,
   "metadata": {},
   "outputs": [
    {
     "name": "stdout",
     "output_type": "stream",
     "text": [
      "123\n",
      "{'1', '2', '3'}\n",
      "이진수가 아닙니다.\n"
     ]
    }
   ],
   "source": [
    "# 17. 2진수\n",
    "# 2진수는 0과 1만으로 이루어져 있다.\n",
    "number = input()\n",
    "\n",
    "if number.isdigit():\n",
    "    number_set = set(number)\n",
    "    if number_set == {'0'} or number_set=={'0','1'} or number_set == {'1'}:\n",
    "        print('이진수입니다.')\n",
    "    else:\n",
    "        print('이진수가 아닙니다.')\n",
    "else:\n",
    "    print('숫자가 아닙니다.')"
   ]
  },
  {
   "cell_type": "code",
   "execution_count": 3,
   "metadata": {},
   "outputs": [
    {
     "name": "stdout",
     "output_type": "stream",
     "text": [
      "33\n"
     ]
    }
   ],
   "source": [
    "# 18. 불쌍한 달팽이\n",
    "def snail(height,day,night):\n",
    "    cnt = 0\n",
    "    distance = 0\n",
    "    while distance <= height:\n",
    "        cnt += 1\n",
    "        distance += day\n",
    "        if distance >= height:\n",
    "            return cnt\n",
    "        distance -= night\n",
    "    return cnt\n",
    "\n",
    "print(snail(100,5,2))"
   ]
  },
  {
   "cell_type": "code",
   "execution_count": 19,
   "metadata": {},
   "outputs": [
    {
     "data": {
      "text/plain": [
       "['b', 'n']"
      ]
     },
     "execution_count": 19,
     "metadata": {},
     "output_type": "execute_result"
    }
   ],
   "source": [
    "# 19. 무엇이 중복일까\n",
    "def duplicated(word_list):\n",
    "    word_dict = {}\n",
    "    for word in word_list:\n",
    "        if word in word_dict:\n",
    "            word_dict[word] += 1\n",
    "        else:\n",
    "            word_dict[word] = 1\n",
    "    \n",
    "    dup_list = []\n",
    "    for word,count in word_dict.items():\n",
    "        if count >=2 :\n",
    "            dup_list.append(word)\n",
    "    return dup_list\n",
    "\n",
    "duplicated(['a', 'b', 'c', 'b', 'd', 'm', 'n', 'n', 'b'])"
   ]
  },
  {
   "cell_type": "code",
   "execution_count": 21,
   "metadata": {},
   "outputs": [
    {
     "name": "stdout",
     "output_type": "stream",
     "text": [
      "True\n",
      "False\n",
      "True\n",
      "False\n"
     ]
    }
   ],
   "source": [
    "# 20. 편안한 단어\n",
    "def comfortable_word(word):\n",
    "    left = [\"q\", \"w\", \"e\", \"r\", \"t\", \"a\", \"s\", \"d\", \"f\", \"g\", \"z\", \"x\", \"c\", \"v\", \"b\"]\n",
    "    \n",
    "    type_order = \"\"\n",
    "    \n",
    "    for char in word:\n",
    "        type_order= type_order + \"l\" if char in left else type_order + \"r\"\n",
    "        if 'll' in type_order or 'rr' in type_order:\n",
    "            return False\n",
    "    return True\n",
    "\n",
    "print(comfortable_word('qywu'))\n",
    "print(comfortable_word('apple'))\n",
    "print(comfortable_word('qywueiro'))\n",
    "print(comfortable_word('qqqqpowsdasj'))"
   ]
  },
  {
   "cell_type": "code",
   "execution_count": 16,
   "metadata": {},
   "outputs": [
    {
     "name": "stdout",
     "output_type": "stream",
     "text": [
      "1\n",
      "333\n",
      "55555\n"
     ]
    }
   ],
   "source": [
    "# 21 숫자패턴\n",
    "def pattern(n):\n",
    "    if n <= 0:\n",
    "        return \"\"\n",
    "    result = \"\"\n",
    "    for num in range(1,n+1):\n",
    "        if num % 2:\n",
    "            result += f\"{num}\"*num + \"\\n\"\n",
    "    \n",
    "    result = result.rstrip(\"\\n\")\n",
    "    return result\n",
    "print(pattern(6))"
   ]
  },
  {
   "cell_type": "code",
   "execution_count": 36,
   "metadata": {},
   "outputs": [
    {
     "name": "stdout",
     "output_type": "stream",
     "text": [
      "참가자 : 길동, 나이 : 26살\n",
      "3\n",
      "3\n",
      "5\n"
     ]
    }
   ],
   "source": [
    "# 클래스 돌아보기\n",
    "class Person:\n",
    "    def __init__(self,name,age):\n",
    "        self.name = name\n",
    "        self.age = age\n",
    "        \n",
    "    def __str__(self):\n",
    "        return f\"참가자 : {self.name}, 나이 : {self.age}살\"\n",
    "    \n",
    "    def __repr__(self):\n",
    "        return f\"repr_저는 참가자 {self.name}입니다. 나이는 {self.age}살 입니다.\"\n",
    "\n",
    "class LastMonthTest:\n",
    "    question = 3\n",
    "    time = 120\n",
    "    \n",
    "    def __init__(self,person):\n",
    "        self.person = person\n",
    "    \n",
    "    def __str__(self):\n",
    "        return f\"참가자는 한명인데, {self.person.name}입니다. 그의 나이는 {self.person.age}살 입니다.\"\n",
    "    \n",
    "    \n",
    "    \n",
    "\n",
    "\n",
    "p1 = Person('길동',26)\n",
    "print(p1)\n",
    "test = LastMonthTest(p1)\n",
    "print(test.question)\n",
    "test.question = 5\n",
    "print(LastMonthTest.question)\n",
    "print(test.question)\n",
    "LastMonthTest.question = 10\n"
   ]
  }
 ],
 "metadata": {
  "kernelspec": {
   "display_name": "Python 3",
   "language": "python",
   "name": "python3"
  },
  "language_info": {
   "codemirror_mode": {
    "name": "ipython",
    "version": 3
   },
   "file_extension": ".py",
   "mimetype": "text/x-python",
   "name": "python",
   "nbconvert_exporter": "python",
   "pygments_lexer": "ipython3",
   "version": "3.7.3"
  }
 },
 "nbformat": 4,
 "nbformat_minor": 2
}
