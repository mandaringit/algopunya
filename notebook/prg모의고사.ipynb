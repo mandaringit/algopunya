{
 "cells": [
  {
   "cell_type": "code",
   "execution_count": 22,
   "metadata": {
    "ExecuteTime": {
     "end_time": "2019-08-03T11:08:51.854248Z",
     "start_time": "2019-08-03T11:08:51.839289Z"
    }
   },
   "outputs": [
    {
     "name": "stdout",
     "output_type": "stream",
     "text": [
      "[1]\n",
      "[1, 2, 3]\n"
     ]
    }
   ],
   "source": [
    "answer = [1, 2, 3, 4, 5, 1, 2, 3, 4, 5]\n",
    "\n",
    "\n",
    "def solution(answers):\n",
    "    answer = []\n",
    "\n",
    "    student_answers = {\n",
    "        1: [1, 2, 3, 4, 5],\n",
    "        2: [2, 1, 2, 3, 2, 4, 2, 5],\n",
    "        3: [3, 3, 1, 1, 2, 2, 4, 4, 5, 5]\n",
    "    }\n",
    "\n",
    "    # 맞춘 개수 초기화\n",
    "    solve_count = {1: 0, 2: 0, 3: 0}\n",
    "\n",
    "    for idx, real_ans in enumerate(answers):\n",
    "        for s_number, value in student_answers.items():\n",
    "            ans_idx = idx % len(value)\n",
    "            if value[ans_idx] == real_ans:\n",
    "                solve_count[s_number] += 1\n",
    "\n",
    "    counts = []\n",
    "\n",
    "    for count in solve_count.values():\n",
    "        counts.append(count)\n",
    "\n",
    "    top_score = max(counts)\n",
    "\n",
    "    for solver_number, count in solve_count.items():\n",
    "        if count == top_score:\n",
    "            answer.append(solver_number)\n",
    "\n",
    "    #오름차순 정렬\n",
    "    answer.sort()\n",
    "\n",
    "    return answer\n",
    "\n",
    "\n",
    "print(solution([1, 2, 3, 4, 5]))\n",
    "print(solution([1, 3, 2, 4, 2]))"
   ]
  },
  {
   "cell_type": "code",
   "execution_count": 31,
   "metadata": {
    "ExecuteTime": {
     "end_time": "2019-08-03T11:09:55.543057Z",
     "start_time": "2019-08-03T11:09:55.531093Z"
    }
   },
   "outputs": [
    {
     "name": "stdout",
     "output_type": "stream",
     "text": [
      "[1]\n",
      "[1, 2, 3]\n"
     ]
    }
   ],
   "source": [
    "def solution(answers):\n",
    "\n",
    "    answer = []\n",
    "\n",
    "    students = {\n",
    "        1: [1, 2, 3, 4, 5],\n",
    "        2: [2, 1, 2, 3, 2, 4, 2, 5],\n",
    "        3: [3, 3, 1, 1, 2, 2, 4, 4, 5, 5]\n",
    "    }\n",
    "\n",
    "    students_count = {1: 0, 2: 0, 3: 0}\n",
    "\n",
    "    # 답마다 각 학생의 정답 카운트\n",
    "\n",
    "    for idx, ans in enumerate(answers):\n",
    "        for student_number, answer_list in students.items():\n",
    "            ans_idx = idx % len(answer_list)\n",
    "\n",
    "            if answer_list[ans_idx] == ans:\n",
    "                students_count[student_number] += 1\n",
    "\n",
    "    # 카운트로 정답 정렬하기\n",
    "\n",
    "    max_count = max(students_count.values())\n",
    "\n",
    "    for student_number, count in students_count.items():\n",
    "        if count == max_count:\n",
    "            answer.append(student_number)\n",
    "\n",
    "    return answer\n",
    "\n",
    "\n",
    "print(solution([1, 2, 3, 4, 5]))\n",
    "print(solution([1, 3, 2, 4, 2]))"
   ]
  },
  {
   "cell_type": "code",
   "execution_count": 10,
   "metadata": {
    "ExecuteTime": {
     "end_time": "2019-08-03T11:06:55.559266Z",
     "start_time": "2019-08-03T11:06:55.552255Z"
    }
   },
   "outputs": [
    {
     "data": {
      "text/plain": [
       "8"
      ]
     },
     "execution_count": 10,
     "metadata": {},
     "output_type": "execute_result"
    }
   ],
   "source": [
    "a = {1: 2, 2: 5, 3: 8, 4: 1}\n",
    "\n",
    "max(a.values())"
   ]
  }
 ],
 "metadata": {
  "kernelspec": {
   "display_name": "Python 3",
   "language": "python",
   "name": "python3"
  },
  "language_info": {
   "codemirror_mode": {
    "name": "ipython",
    "version": 3
   },
   "file_extension": ".py",
   "mimetype": "text/x-python",
   "name": "python",
   "nbconvert_exporter": "python",
   "pygments_lexer": "ipython3",
   "version": "3.7.3"
  },
  "toc": {
   "base_numbering": 1,
   "nav_menu": {},
   "number_sections": true,
   "sideBar": true,
   "skip_h1_title": false,
   "title_cell": "Table of Contents",
   "title_sidebar": "Contents",
   "toc_cell": false,
   "toc_position": {},
   "toc_section_display": true,
   "toc_window_display": false
  }
 },
 "nbformat": 4,
 "nbformat_minor": 2
}
