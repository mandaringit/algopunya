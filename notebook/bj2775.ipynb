{
 "cells": [
  {
   "cell_type": "code",
   "execution_count": 5,
   "metadata": {},
   "outputs": [
    {
     "data": {
      "text/plain": [
       "10"
      ]
     },
     "execution_count": 5,
     "metadata": {},
     "output_type": "execute_result"
    }
   ],
   "source": [
    "# 재귀 ?\n",
    "# apart(2,3) = apart(1,1) + apart(1,2) + apart(1,3) + apart(0,1) + apart(0,2) + apart(0,3)\n",
    "#            = apart(0,1) + [apart(0,1) + apart(0,2)] + [apart(0,1) + apart(0,2) + apart(0,3)] \n",
    "#            = 1 + [1+2] + [1+2+3]\n",
    "#            = 10\n",
    "\n",
    "def apart(a,b):\n",
    "    if a == 0:\n",
    "        # 0층 b호엔 b명이 산다\n",
    "        return b\n",
    "    else:\n",
    "        result = 0\n",
    "        for i in range(1,b+1):\n",
    "            result += apart(a-1,i)\n",
    "        return result\n",
    "\n",
    "apart(2,3)"
   ]
  },
  {
   "cell_type": "code",
   "execution_count": null,
   "metadata": {},
   "outputs": [],
   "source": [
    "def apart(a,b):\n",
    "    if a == 0:\n",
    "        # 0층 b호엔 b명이 산다\n",
    "        return b\n",
    "    else:\n",
    "        result = 0\n",
    "        for i in range(1,b+1):\n",
    "            result += apart(a-1,i)\n",
    "        return result\n",
    "\n",
    "T = int(input())\n",
    "for _ in range(T):\n",
    "    k = int(input())\n",
    "    n = int(input())\n",
    "    \n",
    "    print(apart(k,n))"
   ]
  }
 ],
 "metadata": {
  "kernelspec": {
   "display_name": "Python 3",
   "language": "python",
   "name": "python3"
  },
  "language_info": {
   "codemirror_mode": {
    "name": "ipython",
    "version": 3
   },
   "file_extension": ".py",
   "mimetype": "text/x-python",
   "name": "python",
   "nbconvert_exporter": "python",
   "pygments_lexer": "ipython3",
   "version": "3.7.3"
  }
 },
 "nbformat": 4,
 "nbformat_minor": 2
}
