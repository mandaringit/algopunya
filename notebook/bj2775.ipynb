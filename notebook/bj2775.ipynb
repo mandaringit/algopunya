{
 "cells": [
  {
   "cell_type": "code",
   "execution_count": 15,
   "metadata": {},
   "outputs": [
    {
     "data": {
      "text/plain": [
       "35"
      ]
     },
     "execution_count": 15,
     "metadata": {},
     "output_type": "execute_result"
    }
   ],
   "source": [
    "# 재귀 ?\n",
    "# apart(2,3) = apart(1,1) + apart(1,2) + apart(1,3)\n",
    "#            = apart(0,1) + [apart(0,1) + apart(0,2)] + [apart(0,1) + apart(0,2) + apart(0,3)] \n",
    "#            = 1 + [1+2] + [1+2+3]\n",
    "#            = 10\n",
    "\n",
    "def apart(a,b):\n",
    "    if a == 0:\n",
    "        # 0층 b호엔 b명이 산다\n",
    "        return b\n",
    "    else:\n",
    "        result = 0\n",
    "        for i in range(1,b+1):\n",
    "            result += apart(a-1,i)\n",
    "        return result\n",
    "\n",
    "apart(3,4)"
   ]
  },
  {
   "cell_type": "code",
   "execution_count": 35,
   "metadata": {},
   "outputs": [
    {
     "name": "stdout",
     "output_type": "stream",
     "text": [
      "1\n",
      "4\n",
      "4\n",
      "56\n"
     ]
    }
   ],
   "source": [
    "def apart(k,n):\n",
    "    if k == 0:\n",
    "        # 0층 b호엔 b명이 산다\n",
    "        return n\n",
    "    else:\n",
    "        result = 0\n",
    "        for i in range(1,n+1):\n",
    "            result += apart(k-1,i)\n",
    "        return result\n",
    "\n",
    "T = int(input())\n",
    "for _ in range(T):\n",
    "    k = int(input())\n",
    "    n = int(input())\n",
    "    \n",
    "    print(apart(k,n))"
   ]
  },
  {
   "cell_type": "code",
   "execution_count": 57,
   "metadata": {
    "scrolled": true
   },
   "outputs": [
    {
     "name": "stdout",
     "output_type": "stream",
     "text": [
      "{'11': 1}\n",
      "{'12': 1}\n",
      "{'13': 1}\n",
      "{'44': 1}\n",
      "{'11': 1}\n",
      "{'12': 1}\n",
      "{'23': 1}\n",
      "{'11': 1}\n",
      "{'22': 1}\n",
      "{'21': 1}\n",
      "{'21': 3}\n",
      "{'22': 4}\n",
      "{'23': 5}\n",
      "{'44': 6}\n",
      "{'11': 1}\n",
      "{'12': 1}\n",
      "{'33': 1}\n",
      "{'11': 1}\n",
      "{'22': 1}\n",
      "{'21': 1}\n",
      "{'21': 3}\n",
      "{'22': 4}\n",
      "{'33': 5}\n",
      "{'11': 1}\n",
      "{'32': 1}\n",
      "{'21': 1}\n",
      "{'21': 3}\n",
      "{'32': 4}\n",
      "{'31': 1}\n",
      "{'31': 3}\n",
      "{'31': 6}\n",
      "{'32': 10}\n",
      "{'33': 15}\n",
      "{'44': 21}\n",
      "{'11': 1}\n",
      "{'12': 1}\n",
      "{'43': 1}\n",
      "{'11': 1}\n",
      "{'22': 1}\n",
      "{'21': 1}\n",
      "{'21': 3}\n",
      "{'22': 4}\n",
      "{'43': 5}\n",
      "{'11': 1}\n",
      "{'32': 1}\n",
      "{'21': 1}\n",
      "{'21': 3}\n",
      "{'32': 4}\n",
      "{'31': 1}\n",
      "{'31': 3}\n",
      "{'31': 6}\n",
      "{'32': 10}\n",
      "{'43': 15}\n",
      "{'11': 1}\n",
      "{'42': 1}\n",
      "{'21': 1}\n",
      "{'21': 3}\n",
      "{'42': 4}\n",
      "{'31': 1}\n",
      "{'31': 3}\n",
      "{'31': 6}\n",
      "{'42': 10}\n",
      "{'41': 1}\n",
      "{'41': 3}\n",
      "{'41': 6}\n",
      "{'41': 10}\n",
      "{'42': 20}\n",
      "{'43': 35}\n",
      "{'44': 56}\n"
     ]
    },
    {
     "data": {
      "text/plain": [
       "56"
      ]
     },
     "execution_count": 57,
     "metadata": {},
     "output_type": "execute_result"
    }
   ],
   "source": [
    "def outer_apart(k,n):\n",
    "    data = {}\n",
    "    \n",
    "    def apart():\n",
    "        if f\"{n}{k}\" in data:\n",
    "            return data[f\"{n}{k}\"]\n",
    "        elif k == 0:\n",
    "            # 0층 b호엔 b명이 산다\n",
    "            return n\n",
    "        else:\n",
    "            result = 0\n",
    "            for i in range(1,n+1): \n",
    "                result += outer_apart(k-1,i)\n",
    "                data[f'{n}{k}'] = result\n",
    "                print(data)\n",
    "            return result\n",
    "    return apart()\n",
    "\n",
    "outer_apart(4,4)"
   ]
  },
  {
   "cell_type": "code",
   "execution_count": 4,
   "metadata": {},
   "outputs": [
    {
     "name": "stdout",
     "output_type": "stream",
     "text": [
      "{'01': 1}\n",
      "{'01': 1, '11': 1}\n",
      "{'01': 1, '11': 1, '21': 1}\n",
      "{'01': 1, '11': 1, '21': 1, '31': 1}\n",
      "{'01': 1, '11': 1, '21': 1, '31': 1, '02': 2}\n",
      "{'01': 1, '11': 1, '21': 1, '31': 1, '02': 2, '12': 3}\n",
      "{'01': 1, '11': 1, '21': 1, '31': 1, '02': 2, '12': 3, '22': 4}\n",
      "{'01': 1, '11': 1, '21': 1, '31': 1, '02': 2, '12': 3, '22': 4, '32': 5}\n",
      "{'01': 1, '11': 1, '21': 1, '31': 1, '02': 2, '12': 3, '22': 4, '32': 5, '03': 3}\n",
      "{'01': 1, '11': 1, '21': 1, '31': 1, '02': 2, '12': 3, '22': 4, '32': 5, '03': 3, '13': 6}\n",
      "{'01': 1, '11': 1, '21': 1, '31': 1, '02': 2, '12': 3, '22': 4, '32': 5, '03': 3, '13': 6, '23': 10}\n",
      "{'01': 1, '11': 1, '21': 1, '31': 1, '02': 2, '12': 3, '22': 4, '32': 5, '03': 3, '13': 6, '23': 10, '33': 15}\n",
      "{'01': 1, '11': 1, '21': 1, '31': 1, '02': 2, '12': 3, '22': 4, '32': 5, '03': 3, '13': 6, '23': 10, '33': 15, '04': 4}\n",
      "{'01': 1, '11': 1, '21': 1, '31': 1, '02': 2, '12': 3, '22': 4, '32': 5, '03': 3, '13': 6, '23': 10, '33': 15, '04': 4, '14': 10}\n",
      "{'01': 1, '11': 1, '21': 1, '31': 1, '02': 2, '12': 3, '22': 4, '32': 5, '03': 3, '13': 6, '23': 10, '33': 15, '04': 4, '14': 10, '24': 20}\n",
      "{'01': 1, '11': 1, '21': 1, '31': 1, '02': 2, '12': 3, '22': 4, '32': 5, '03': 3, '13': 6, '23': 10, '33': 15, '04': 4, '14': 10, '24': 20, '34': 35}\n",
      "{'01': 1, '11': 1, '21': 1, '31': 1, '02': 2, '12': 3, '22': 4, '32': 5, '03': 3, '13': 6, '23': 10, '33': 15, '04': 4, '14': 10, '24': 20, '34': 35, '44': 56}\n"
     ]
    },
    {
     "data": {
      "text/plain": [
       "56"
      ]
     },
     "execution_count": 4,
     "metadata": {},
     "output_type": "execute_result"
    }
   ],
   "source": [
    "def memoize(func):\n",
    "    memo = {}\n",
    "    def wrapped(n,k):\n",
    "        if f\"{n}{k}\" in memo:\n",
    "            return memo[f\"{n}{k}\"]\n",
    "        else:\n",
    "            result = func(n,k)\n",
    "            memo[f\"{n}{k}\"] = result\n",
    "            print(memo)\n",
    "            return result\n",
    "    return wrapped\n",
    "\n",
    "@memoize\n",
    "def apart(a,b):\n",
    "    if a == 0:\n",
    "        # 0층 b호엔 b명이 산다\n",
    "        return b\n",
    "    else:\n",
    "        result = 0\n",
    "        for i in range(1,b+1):\n",
    "            result += apart(a-1,i)\n",
    "        return result\n",
    "\n",
    "apart(4,4)"
   ]
  },
  {
   "cell_type": "code",
   "execution_count": null,
   "metadata": {},
   "outputs": [],
   "source": [
    "def memoize(func):\n",
    "    memo = {}\n",
    "    def wrapped(k,n):\n",
    "        if f\"{k}{n}\" in memo:\n",
    "            return memo[f\"{k}{n}\"]\n",
    "        else:\n",
    "            result = func(k,n)\n",
    "            memo[f\"{k}{n}\"] = result\n",
    "#             print(memo)\n",
    "            return result\n",
    "    return wrapped\n",
    "\n",
    "@memoize\n",
    "def apart(k,n):\n",
    "    if k == 0:\n",
    "        # 0층 b호엔 b명이 산다\n",
    "        return n\n",
    "    else:\n",
    "        result = 0\n",
    "        for i in range(1,n+1):\n",
    "            result += apart(k-1,i)\n",
    "        return result\n",
    "\n",
    "T = int(input())\n",
    "for _ in range(T):\n",
    "    k = int(input())\n",
    "    n = int(input())\n",
    "    \n",
    "    print(apart(k,n))"
   ]
  }
 ],
 "metadata": {
  "kernelspec": {
   "display_name": "Python 3",
   "language": "python",
   "name": "python3"
  },
  "language_info": {
   "codemirror_mode": {
    "name": "ipython",
    "version": 3
   },
   "file_extension": ".py",
   "mimetype": "text/x-python",
   "name": "python",
   "nbconvert_exporter": "python",
   "pygments_lexer": "ipython3",
   "version": "3.7.3"
  }
 },
 "nbformat": 4,
 "nbformat_minor": 2
}
