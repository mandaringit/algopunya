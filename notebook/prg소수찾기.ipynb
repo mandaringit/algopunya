{
 "cells": [
  {
   "cell_type": "code",
   "execution_count": 47,
   "metadata": {
    "ExecuteTime": {
     "end_time": "2019-08-04T11:15:45.733829Z",
     "start_time": "2019-08-04T11:15:45.721862Z"
    }
   },
   "outputs": [
    {
     "data": {
      "text/plain": [
       "1229"
      ]
     },
     "execution_count": 47,
     "metadata": {},
     "output_type": "execute_result"
    }
   ],
   "source": [
    "# 에라토스테네스의 체\n",
    "def solution(n):\n",
    "\n",
    "    # 만약 n까지 포함이면 범위는 n+1\n",
    "    # n 미포함이면 n\n",
    "    r = n + 1\n",
    "\n",
    "    # 일단 n+1 개의 수(0 ~ n) 모두 소수 = True라고 가정하고 출발\n",
    "\n",
    "    prime_list = [True] * r\n",
    "\n",
    "    # 루트(n) => 여기까지만 검사하면 된다.\n",
    "    \n",
    "    m = int(r**0.5)\n",
    "\n",
    "    # 2 ~ m 까지 루프를 돌면서\n",
    "    for i in range(2, m + 1):\n",
    "\n",
    "        # 만약 소수리스트가 True면\n",
    "        if prime_list[i] == True:\n",
    "\n",
    "            # 해당 수의 다음 배수(i=2면, i+i = 4부터 n까지 i=2씩 증가시키면서)\n",
    "            for j in range(i + i, r, i):\n",
    "\n",
    "                # 소수리스트에서 해당 값들을 False로 바꾼다.\n",
    "                prime_list[j] = False\n",
    "\n",
    "    # 찾은 소수 리스트\n",
    "    real_prime_list = [num for num in range(2, r) if prime_list[num] == True]\n",
    "    \n",
    "    return len(real_prime_list) # 소수개수 리턴\n",
    "\n",
    "solution(10000)"
   ]
  },
  {
   "cell_type": "code",
   "execution_count": 46,
   "metadata": {
    "ExecuteTime": {
     "end_time": "2019-08-04T11:15:41.432441Z",
     "start_time": "2019-08-04T11:15:37.177821Z"
    }
   },
   "outputs": [
    {
     "data": {
      "text/plain": [
       "1229"
      ]
     },
     "execution_count": 46,
     "metadata": {},
     "output_type": "execute_result"
    }
   ],
   "source": [
    "def solution(n):\n",
    "    answer = 0\n",
    "    \n",
    "    for num in range(2,n+1):\n",
    "        is_prime = True\n",
    "        for i in range(2,num):\n",
    "            if num % i == 0:\n",
    "                is_prime = False\n",
    "        \n",
    "        if is_prime:\n",
    "            answer +=1\n",
    "                \n",
    "    return answer\n",
    "\n",
    "solution(10000)"
   ]
  }
 ],
 "metadata": {
  "kernelspec": {
   "display_name": "Python 3",
   "language": "python",
   "name": "python3"
  },
  "language_info": {
   "codemirror_mode": {
    "name": "ipython",
    "version": 3
   },
   "file_extension": ".py",
   "mimetype": "text/x-python",
   "name": "python",
   "nbconvert_exporter": "python",
   "pygments_lexer": "ipython3",
   "version": "3.7.3"
  },
  "toc": {
   "base_numbering": 1,
   "nav_menu": {},
   "number_sections": true,
   "sideBar": true,
   "skip_h1_title": false,
   "title_cell": "Table of Contents",
   "title_sidebar": "Contents",
   "toc_cell": false,
   "toc_position": {},
   "toc_section_display": true,
   "toc_window_display": false
  }
 },
 "nbformat": 4,
 "nbformat_minor": 2
}
