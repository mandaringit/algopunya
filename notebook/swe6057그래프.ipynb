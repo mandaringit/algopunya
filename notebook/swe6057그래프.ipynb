{
 "cells": [
  {
   "cell_type": "markdown",
   "metadata": {},
   "source": [
    "정점(node)\n",
    "\n",
    "간선(edge) => 정점을 잇는 선\n",
    "\n"
   ]
  },
  {
   "cell_type": "code",
   "execution_count": 1,
   "metadata": {
    "ExecuteTime": {
     "end_time": "2019-08-07T12:57:17.785941Z",
     "start_time": "2019-08-07T12:57:16.622638Z"
    }
   },
   "outputs": [
    {
     "name": "stdout",
     "output_type": "stream",
     "text": [
      "1\n"
     ]
    }
   ],
   "source": [
    "T = int(input())\n",
    "\n",
    "for t in range(1,T+1):\n",
    "    pass"
   ]
  },
  {
   "cell_type": "code",
   "execution_count": 3,
   "metadata": {
    "ExecuteTime": {
     "end_time": "2019-08-07T12:59:19.386873Z",
     "start_time": "2019-08-07T12:59:10.429481Z"
    }
   },
   "outputs": [
    {
     "name": "stdout",
     "output_type": "stream",
     "text": [
      "1 2\n",
      "3 4\n",
      "5 6\n"
     ]
    }
   ],
   "source": [
    "N,M = map(int,input().split()) # 두 정수 N,M이 공백으로 주어짐\n",
    "\n",
    "for m in range(1,M+1):\n",
    "    x,y = map(int,input().split()) # 두 정수 x,y가 공백으로 주어진다."
   ]
  },
  {
   "cell_type": "code",
   "execution_count": 11,
   "metadata": {
    "ExecuteTime": {
     "end_time": "2019-08-07T14:15:32.124723Z",
     "start_time": "2019-08-07T14:15:32.110762Z"
    }
   },
   "outputs": [
    {
     "name": "stdout",
     "output_type": "stream",
     "text": [
      "{1: [2, 3], 2: [1, 3], 3: [2, 1, 4, 5], 4: [3, 5], 5: [4, 3]}\n",
      "2\n"
     ]
    }
   ],
   "source": [
    "N, M = 5, 6\n",
    "\n",
    "cases = [\n",
    "    \"1 2\",\n",
    "    \"2 3\",\n",
    "    \"1 3\",\n",
    "    \"3 4\",\n",
    "    \"4 5\",\n",
    "    \"5 3\"\n",
    "]\n",
    "\n",
    "\n",
    "def addIn(x, y, dict_storage):\n",
    "    if x in dict_storage:\n",
    "        dict_storage[x].append(y)\n",
    "    else:\n",
    "        dict_storage[x] = [y]\n",
    "\n",
    "    if y in dict_storage:\n",
    "        dict_storage[y].append(x)\n",
    "    else:\n",
    "        dict_storage[y] = [x]\n",
    "        \n",
    "    return dict_storage\n",
    "\n",
    "def getTriangleCount(case_dict):\n",
    "    triangle_cases = []\n",
    "\n",
    "    for edge,nodes in case_dict.items():\n",
    "        for idx,node in enumerate(nodes):\n",
    "            if idx == len(nodes) - 1:\n",
    "                continue\n",
    "            else:\n",
    "                pick1 = node\n",
    "                pick2 = nodes[idx+1]\n",
    "                try_case = {edge,pick1,pick2}\n",
    "                if try_case not in triangle_cases:\n",
    "                    if pick1 in case_dict[pick2] and pick2 in case_dict[pick1]:\n",
    "                        triangle_cases.append(try_case)\n",
    "    return len(triangle_cases)\n",
    "\n",
    "case_dict = {}\n",
    "        \n",
    "for m in range(M):\n",
    "    x, y = map(int, cases[m].split())  # 두 정수 x,y가 공백으로 주어진다.\n",
    "\n",
    "    case_dict = addIn(x, y,case_dict)\n",
    "    \n",
    "    triangle_count = getTriangleCount(case_dict)\n",
    "            \n",
    "    \n",
    "print(case_dict)\n",
    "print(triangle_count)"
   ]
  },
  {
   "cell_type": "code",
   "execution_count": 8,
   "metadata": {
    "ExecuteTime": {
     "end_time": "2019-08-07T14:07:42.685797Z",
     "start_time": "2019-08-07T14:07:36.394622Z"
    }
   },
   "outputs": [
    {
     "name": "stdout",
     "output_type": "stream",
     "text": [
      "1\n",
      "3 3\n",
      "1 2\n",
      "2 3\n",
      "1 3\n",
      "#1 1\n"
     ]
    }
   ],
   "source": [
    "def addIn(x, y, dict_storage):\n",
    "    if x in dict_storage:\n",
    "        dict_storage[x].append(y)\n",
    "    else:\n",
    "        dict_storage[x] = [y]\n",
    "\n",
    "    if y in dict_storage:\n",
    "        dict_storage[y].append(x)\n",
    "    else:\n",
    "        dict_storage[y] = [x]\n",
    "\n",
    "    return dict_storage\n",
    "\n",
    "\n",
    "def getTriangleCount(case_dict):\n",
    "    triangle_cases = []\n",
    "\n",
    "    for edge, nodes in case_dict.items():\n",
    "        for idx, node in enumerate(nodes):\n",
    "            if idx == len(nodes) - 1:\n",
    "                continue\n",
    "            else:\n",
    "                pick1 = node\n",
    "                pick2 = nodes[idx + 1]\n",
    "                try_case = {edge, pick1, pick2}\n",
    "                if try_case not in triangle_cases:\n",
    "                    if pick1 in case_dict[pick2] and pick2 in case_dict[pick1]:\n",
    "                        triangle_cases.append(try_case)\n",
    "    return len(triangle_cases)\n",
    "\n",
    "\n",
    "T = int(input())\n",
    "\n",
    "for t in range(1, T + 1):\n",
    "    N, M = map(int, input().split())\n",
    "\n",
    "    case_dict = {}\n",
    "\n",
    "    for m in range(1, M + 1):\n",
    "        x, y = map(int, input().split())\n",
    "\n",
    "        case_dict = addIn(x, y, case_dict)\n",
    "\n",
    "    triangle_count = getTriangleCount(case_dict)\n",
    "\n",
    "    print(f\"#{t} {triangle_count}\")"
   ]
  }
 ],
 "metadata": {
  "kernelspec": {
   "display_name": "Python 3",
   "language": "python",
   "name": "python3"
  },
  "language_info": {
   "codemirror_mode": {
    "name": "ipython",
    "version": 3
   },
   "file_extension": ".py",
   "mimetype": "text/x-python",
   "name": "python",
   "nbconvert_exporter": "python",
   "pygments_lexer": "ipython3",
   "version": "3.7.3"
  },
  "toc": {
   "base_numbering": 1,
   "nav_menu": {},
   "number_sections": true,
   "sideBar": true,
   "skip_h1_title": false,
   "title_cell": "Table of Contents",
   "title_sidebar": "Contents",
   "toc_cell": false,
   "toc_position": {},
   "toc_section_display": true,
   "toc_window_display": false
  }
 },
 "nbformat": 4,
 "nbformat_minor": 2
}
