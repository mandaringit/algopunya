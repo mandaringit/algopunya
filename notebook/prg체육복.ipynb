{
 "cells": [
  {
   "cell_type": "code",
   "execution_count": 11,
   "metadata": {
    "ExecuteTime": {
     "end_time": "2019-08-03T11:45:01.791990Z",
     "start_time": "2019-08-03T11:45:01.777030Z"
    }
   },
   "outputs": [
    {
     "name": "stdout",
     "output_type": "stream",
     "text": [
      "5\n",
      "4\n",
      "2\n",
      "3\n",
      "4\n"
     ]
    }
   ],
   "source": [
    "# 학생들의 번호는 체격순\n",
    "\n",
    "# 바로 앞번호의 학생이나 바로 뒷번호의 학생게게만 빌려줄 수 있다\n",
    "\n",
    "# 적절히 빌려 최대한 많이 체육수업을 들어야한다\n",
    "\n",
    "# n => 전체학생\n",
    "# lost => 도난당한 학생들의 번호가 담긴 배열\n",
    "# reserve => 여벌의 체육복을 가져온 학생들의 번호가 담긴 배열\n",
    "\n",
    "# 1차\n",
    "#1,3,5 실패\n",
    "def solution(n, lost, reserve):\n",
    "    answer = 0\n",
    "\n",
    "    # 여벌 중, 도난이 있는지 확인하고 제외\n",
    "    for number in reserve:\n",
    "        if number in lost:\n",
    "            # 도난된 친구는 여벌이 없다고 봄\n",
    "            reserve.remove(number)  ######## 테케실패의 원인 <= 멍청한짓. 루프도는걸 깎으면 안되지 ㅠㅠ\n",
    "            # 여벌이 있으니 잃어버린것도 아님\n",
    "            lost.remove(number)\n",
    "    \n",
    "    # 빌려주기\n",
    "    for number in reserve:\n",
    "        if number - 1 in lost:\n",
    "            lost.remove(number - 1)\n",
    "        elif number + 1 in lost:\n",
    "            lost.remove(number + 1)\n",
    "    \n",
    "    # 전체 수 - len(lost) = 수업가능 수\n",
    "    answer = n - len(lost)\n",
    "\n",
    "    return answer\n",
    "\n",
    "\n",
    "print(solution(5, [2, 4], [1, 3, 5]))  # 5\n",
    "print(solution(5, [2, 4], [3]))  # 4\n",
    "print(solution(3, [3], [1]))  # 2\n",
    "print(solution(5, [2, 3, 4], [3])) # 3\n",
    "print(solution(5, [2, 3, 4], [3,4,5])) # 4"
   ]
  },
  {
   "cell_type": "code",
   "execution_count": 25,
   "metadata": {
    "ExecuteTime": {
     "end_time": "2019-08-03T12:28:46.296225Z",
     "start_time": "2019-08-03T12:28:46.277274Z"
    }
   },
   "outputs": [
    {
     "name": "stdout",
     "output_type": "stream",
     "text": [
      "5\n",
      "4\n",
      "2\n",
      "3\n",
      "4\n"
     ]
    }
   ],
   "source": [
    "\n",
    "def solution(n, lost, reserve):\n",
    "    answer = 0\n",
    "    \n",
    "    # 여벌중 도난인사람 제외\n",
    "    Students = list(range(1,n+1)) # 전체 학생\n",
    "    Lost = list(set(lost) - set(reserve)) # 잃어버린 사람 : 잃음 - 여벌\n",
    "    Reserve = list(set(reserve) - set(lost)) # 여벌 : 여벌 - 잃음\n",
    "\n",
    "    \n",
    "    # 빌려주기\n",
    "    for number in Lost:\n",
    "        if number - 1 in Reserve:\n",
    "            Reserve.remove(number-1)\n",
    "        elif number + 1 in Reserve:\n",
    "            Reserve.remove(number+1)\n",
    "        else:\n",
    "            # 둘다 아닐때 수업가능 학생에서 제외\n",
    "            Students.remove(number)\n",
    "    \n",
    "    # 전체 수 - len(lost) = 수업가능 수\n",
    "    answer = len(Students)\n",
    "\n",
    "    return answer\n",
    "\n",
    "\n",
    "print(solution(5, [2, 4], [1, 3, 5]))  # 5\n",
    "print(solution(5, [2, 4], [3]))  # 4\n",
    "print(solution(3, [3], [1]))  # 2\n",
    "print(solution(5, [2, 3, 4], [3])) # 3\n",
    "print(solution(5, [2, 3, 4], [3,4,5])) # 4"
   ]
  }
 ],
 "metadata": {
  "kernelspec": {
   "display_name": "Python 3",
   "language": "python",
   "name": "python3"
  },
  "language_info": {
   "codemirror_mode": {
    "name": "ipython",
    "version": 3
   },
   "file_extension": ".py",
   "mimetype": "text/x-python",
   "name": "python",
   "nbconvert_exporter": "python",
   "pygments_lexer": "ipython3",
   "version": "3.7.3"
  },
  "toc": {
   "base_numbering": 1,
   "nav_menu": {},
   "number_sections": true,
   "sideBar": true,
   "skip_h1_title": false,
   "title_cell": "Table of Contents",
   "title_sidebar": "Contents",
   "toc_cell": false,
   "toc_position": {},
   "toc_section_display": true,
   "toc_window_display": false
  }
 },
 "nbformat": 4,
 "nbformat_minor": 2
}
