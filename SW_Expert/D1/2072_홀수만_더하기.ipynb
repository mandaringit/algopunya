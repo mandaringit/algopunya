{
 "cells": [
  {
   "cell_type": "markdown",
   "metadata": {},
   "source": [
    "## 10개의 수를 입력 받아, 그 중에서 홀수만 더한 값을 출력하는 프로그램을 작성하라.\n",
    "\n",
    "\n",
    "#### [제약 사항]\n",
    "\n",
    "각 수는 0 이상 10000 이하의 정수이다.\n",
    "\n",
    "\n",
    "#### [입력]\n",
    "\n",
    "가장 첫 줄에는 테스트 케이스의 개수 T가 주어지고, 그 아래로 각 테스트 케이스가 주어진다.\n",
    "\n",
    "각 테스트 케이스의 첫 번째 줄에는 10개의 수가 주어진다.\n",
    "\n",
    "\n",
    "#### [출력]\n",
    "\n",
    "출력의 각 줄은 '#t'로 시작하고, 공백을 한 칸 둔 다음 정답을 출력한다.\n",
    "\n",
    "(t는 테스트 케이스의 번호를 의미하며 1부터 시작한다.)\n",
    "\n",
    "#### 입력\n",
    "\n",
    "```\n",
    "3\n",
    "3 17 1 39 8 41 2 32 99 2\n",
    "22 8 5 123 7 2 63 7 3 46\n",
    "6 63 2 3 58 76 21 33 8 1\n",
    "```\n",
    " \n",
    "\n",
    "#### 출력\n",
    "```\n",
    "#1 200\n",
    "#2 208\n",
    "#3 121\n",
    "```\n",
    " "
   ]
  },
  {
   "cell_type": "code",
   "execution_count": 10,
   "metadata": {},
   "outputs": [
    {
     "name": "stdout",
     "output_type": "stream",
     "text": [
      "1\n",
      "1\n",
      "#1 1\n"
     ]
    }
   ],
   "source": [
    "# 입력 분리\n",
    "test_case_number = int(input())\n",
    "\n",
    "test_cases = []\n",
    "\n",
    "for number in range(test_case_number):\n",
    "    input_testcase = [int(number) for number in input().split(\" \")]\n",
    "    test_cases.append(input_testcase)\n",
    "\n",
    "# print(test_cases)\n",
    "\n",
    "for idx,case in enumerate(test_cases):\n",
    "    odd_sum = 0\n",
    "    for number in case:\n",
    "        if number % 2:\n",
    "            odd_sum += number\n",
    "    print(f\"#{idx+1} {odd_sum}\")\n",
    "    "
   ]
  },
  {
   "cell_type": "code",
   "execution_count": 16,
   "metadata": {},
   "outputs": [
    {
     "name": "stdout",
     "output_type": "stream",
     "text": [
      "3\n",
      "1 2\n",
      "3 4\n",
      "4 6\n",
      "#1 1\n",
      "#2 3\n",
      "#3 0\n",
      "\n"
     ]
    }
   ],
   "source": [
    "# 입력 분리\n",
    "# 위 풀이 축약\n",
    "test_case_number = int(input())\n",
    "\n",
    "result = \"\"\n",
    "\n",
    "for number in range(test_case_number):\n",
    "    input_testcase = [int(number) for number in input().split(\" \")]\n",
    "\n",
    "    odd_sum = 0\n",
    "    for tc_number in input_testcase:\n",
    "        if tc_number % 2:\n",
    "            odd_sum += tc_number\n",
    "    \n",
    "    if number+1 == test_case_number:\n",
    "        result += f\"#{number+1} {odd_sum}\"\n",
    "    else :\n",
    "        result += f\"#{number+1} {odd_sum}\\n\"\n",
    "\n",
    "print(result)"
   ]
  }
 ],
 "metadata": {
  "kernelspec": {
   "display_name": "Python 3",
   "language": "python",
   "name": "python3"
  },
  "language_info": {
   "codemirror_mode": {
    "name": "ipython",
    "version": 3
   },
   "file_extension": ".py",
   "mimetype": "text/x-python",
   "name": "python",
   "nbconvert_exporter": "python",
   "pygments_lexer": "ipython3",
   "version": "3.7.3"
  }
 },
 "nbformat": 4,
 "nbformat_minor": 2
}
