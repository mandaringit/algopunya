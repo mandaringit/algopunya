{
 "cells": [
  {
   "cell_type": "markdown",
   "metadata": {},
   "source": [
    "## 연월일 달력\n",
    "\n",
    "연월일 순으로 구성된 8자리의 날짜가 입력으로 주어진다.\n",
    "\n",
    "![그림1](img/2056_01.PNG)\n",
    "\n",
    "해당 날짜의 유효성을 판단한 후, 날짜가 유효하다면\n",
    "\n",
    "22220228 => 2222/02/28 과 같이 ”YYYY/MM/DD”형식으로 출력하고,\n",
    "\n",
    "날짜가 유효하지 않을 경우, -1 을 출력하는 프로그램을 작성하라.\n",
    "\n",
    "\n",
    "연월일로 구성된 입력에서 월은 1~12 사이 값을 가져야 하며\n",
    "\n",
    "일은 [표1] 과 같이, 1일 ~ 각각의 달에 해당하는 날짜까지의 값을 가질 수 있다.\n",
    " \n",
    "![표1](img/2056_02.PNG)\n",
    "\n",
    "\n",
    "\n",
    "__※ 2월의 경우, 28일인 경우만 고려한다. (윤년은 고려하지 않는다.)__\n",
    "\n",
    "\n",
    "#### [입력]\n",
    "\n",
    "입력은 첫 줄에 총 테스트 케이스의 개수 T가 온다.\n",
    "\n",
    "다음 줄부터 각 테스트 케이스가 주어진다.\n",
    "\n",
    "```\n",
    "5\n",
    "22220228\n",
    "20150002\n",
    "01010101\n",
    "20140230\n",
    "11111111\n",
    "```\n",
    "\n",
    "\n",
    "#### [출력]\n",
    "\n",
    "테스트 케이스 t에 대한 결과는 “#t”을 찍고, 한 칸 띄고, 정답을 출력한다.\n",
    "\n",
    "(t는 테스트 케이스의 번호를 의미하며 1부터 시작한다.)\n",
    "\n",
    "```\n",
    "#1 2222/02/28\n",
    "#2 -1\n",
    "#3 0101/01/01\n",
    "#4 -1\n",
    "#5 1111/11/11\n",
    "```"
   ]
  },
  {
   "cell_type": "code",
   "execution_count": 12,
   "metadata": {},
   "outputs": [
    {
     "name": "stdout",
     "output_type": "stream",
     "text": [
      "1\n",
      "1\n",
      "#1 -1\n"
     ]
    }
   ],
   "source": [
    "for loop_number in range(int(input())):\n",
    "    date = input()\n",
    "    # 스트링을 날짜로 구분\n",
    "    year = date[:4].lstrip(\"0\")\n",
    "    month = date[4:6].lstrip(\"0\")\n",
    "    day = date[6:].lstrip(\"0\")\n",
    "    \n",
    "    valid = f\"#{loop_number+1} {date[:4]}/{date[4:6]}/{date[6:]}\"\n",
    "    invalid = f\"#{loop_number+1} -1\"\n",
    "    \n",
    "    # 유효성 검사\n",
    "    if year =='' or month =='' or day == '':\n",
    "        print(invalid)\n",
    "        continue\n",
    "    \n",
    "    # 형변환\n",
    "    month = int(month)\n",
    "    day = int(day)\n",
    "    \n",
    "    day_31 = [1,3,5,7,8,10,12]\n",
    "    \n",
    "    if month == 2:\n",
    "        print(valid if 0<day<=28 else invalid)\n",
    "    elif month in day_31:\n",
    "        print(valid if 0<day<=31 else invalid)\n",
    "    else:\n",
    "        print(valid if 0<day<=30 else invalid)"
   ]
  },
  {
   "cell_type": "code",
   "execution_count": 14,
   "metadata": {},
   "outputs": [
    {
     "data": {
      "text/plain": [
       "9"
      ]
     },
     "execution_count": 14,
     "metadata": {},
     "output_type": "execute_result"
    }
   ],
   "source": [
    "for loop_number in range(int(input())):\n",
    "    date = input()\n",
    "    # 스트링을 날짜로 구분\n",
    "    year = date[:4]\n",
    "    month = date[4:6]\n",
    "    day = date[6:]\n",
    "    \n",
    "    valid = f\"#{loop_number+1} {date[:4]}/{date[4:6]}/{date[6:]}\"\n",
    "    invalid = f\"#{loop_number+1} -1\"\n",
    "    \n",
    "    # 형변환\n",
    "    month = int(month)\n",
    "    day = int(day)\n",
    "    \n",
    "    day_31 = [1,3,5,7,8,10,12]\n",
    "    day_30 = [4,6,9,11]\n",
    "    \n",
    "    if month == 2:\n",
    "        print(valid if 0<day<=28 else invalid)\n",
    "    elif month in day_31:\n",
    "        print(valid if 0<day<=31 else invalid)\n",
    "    elif month in day_30:\n",
    "        print(valid if 0<day<=30 else invalid)\n",
    "    else :\n",
    "        print(invalid)"
   ]
  }
 ],
 "metadata": {
  "kernelspec": {
   "display_name": "Python 3",
   "language": "python",
   "name": "python3"
  },
  "language_info": {
   "codemirror_mode": {
    "name": "ipython",
    "version": 3
   },
   "file_extension": ".py",
   "mimetype": "text/x-python",
   "name": "python",
   "nbconvert_exporter": "python",
   "pygments_lexer": "ipython3",
   "version": "3.7.3"
  }
 },
 "nbformat": 4,
 "nbformat_minor": 2
}
