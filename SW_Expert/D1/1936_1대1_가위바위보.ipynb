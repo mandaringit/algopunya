{
 "cells": [
  {
   "cell_type": "markdown",
   "metadata": {},
   "source": [
    "A와 B가 가위바위보를 하였다. \n",
    "\n",
    "가위는 1, 바위는 2, 보는 3으로 표현되며 A와 B가 무엇을 냈는지 입력으로 주어진다.\n",
    "\n",
    "A와 B중에 누가 이겼는지 판별해보자. 단, 비기는 경우는 없다.\n",
    "\n",
    " \n",
    "\n",
    "[입력]\n",
    "\n",
    "입력으로 A와 B가 무엇을 냈는지 빈 칸을 사이로 주어진다.\n",
    "\n",
    "```\n",
    "3 2\n",
    "```\n",
    "\n",
    "[출력]\n",
    "\n",
    "A가 이기면 A, B가 이기면 B를 출력한다.\n",
    "\n",
    "```\n",
    "A\n",
    "```"
   ]
  },
  {
   "cell_type": "code",
   "execution_count": 1,
   "metadata": {},
   "outputs": [
    {
     "name": "stdout",
     "output_type": "stream",
     "text": [
      "3 2\n",
      "A\n"
     ]
    }
   ],
   "source": [
    "A,B = (int(num) for num in input().split())\n",
    "\n",
    "if A ==1 and B == 3:\n",
    "    print(\"A\")\n",
    "elif A == 2 and B == 1:\n",
    "    print(\"A\")\n",
    "elif A == 3 and B == 2:\n",
    "    print(\"A\")\n",
    "else:\n",
    "    print(\"B\")"
   ]
  }
 ],
 "metadata": {
  "kernelspec": {
   "display_name": "Python 3",
   "language": "python",
   "name": "python3"
  },
  "language_info": {
   "codemirror_mode": {
    "name": "ipython",
    "version": 3
   },
   "file_extension": ".py",
   "mimetype": "text/x-python",
   "name": "python",
   "nbconvert_exporter": "python",
   "pygments_lexer": "ipython3",
   "version": "3.7.3"
  }
 },
 "nbformat": 4,
 "nbformat_minor": 2
}
