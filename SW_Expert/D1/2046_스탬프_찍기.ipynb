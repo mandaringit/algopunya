{
 "cells": [
  {
   "cell_type": "markdown",
   "metadata": {},
   "source": [
    "주어진 숫자만큼 # 을 출력해보세요.\n",
    "\n",
    "주어질 숫자는 100,000 이하다.\n",
    "\n",
    "#### [입력]\n",
    "\n",
    "```\n",
    "3\n",
    "```\n",
    "\n",
    "#### [출력]\n",
    "\n",
    "```\n",
    "###\n",
    "```"
   ]
  },
  {
   "cell_type": "code",
   "execution_count": 1,
   "metadata": {},
   "outputs": [
    {
     "name": "stdout",
     "output_type": "stream",
     "text": [
      "3\n",
      "###\n"
     ]
    }
   ],
   "source": [
    "print(\"#\"*int(input()))"
   ]
  }
 ],
 "metadata": {
  "kernelspec": {
   "display_name": "Python 3",
   "language": "python",
   "name": "python3"
  },
  "language_info": {
   "codemirror_mode": {
    "name": "ipython",
    "version": 3
   },
   "file_extension": ".py",
   "mimetype": "text/x-python",
   "name": "python",
   "nbconvert_exporter": "python",
   "pygments_lexer": "ipython3",
   "version": "3.7.3"
  }
 },
 "nbformat": 4,
 "nbformat_minor": 2
}
