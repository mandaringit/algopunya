{
 "cells": [
  {
   "cell_type": "markdown",
   "metadata": {},
   "source": [
    "1부터 주어진 횟수까지 2를 곱한 값(들)을 출력하시오.\n",
    "\n",
    "주어질 숫자는 30을 넘지 않는다.\n",
    "\n",
    "[입력]\n",
    "\n",
    "```\n",
    "8\n",
    "```\n",
    "\n",
    "[출력]\n",
    "\n",
    "```\n",
    "1 2 4 8 16 32 64 128 256\n",
    "```"
   ]
  },
  {
   "cell_type": "code",
   "execution_count": 3,
   "metadata": {},
   "outputs": [
    {
     "name": "stdout",
     "output_type": "stream",
     "text": [
      "8\n",
      "1 2 4 8 16 32 64 128 256 "
     ]
    }
   ],
   "source": [
    "number= int(input())\n",
    "\n",
    "for num in range(number+1):\n",
    "    print(2**num,end=\" \")"
   ]
  }
 ],
 "metadata": {
  "kernelspec": {
   "display_name": "Python 3",
   "language": "python",
   "name": "python3"
  },
  "language_info": {
   "codemirror_mode": {
    "name": "ipython",
    "version": 3
   },
   "file_extension": ".py",
   "mimetype": "text/x-python",
   "name": "python",
   "nbconvert_exporter": "python",
   "pygments_lexer": "ipython3",
   "version": "3.7.3"
  }
 },
 "nbformat": 4,
 "nbformat_minor": 2
}
