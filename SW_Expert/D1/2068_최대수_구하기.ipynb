{
 "cells": [
  {
   "cell_type": "markdown",
   "metadata": {},
   "source": [
    "## 10개의 수를 입력 받아, 그 중에서 가장 큰 수를 출력하는 프로그램을 작성하라.\n",
    "\n",
    "\n",
    "### [제약 사항]\n",
    "\n",
    "각 수는 0 이상 10000 이하의 정수이다.\n",
    "\n",
    "\n",
    "### [입력]\n",
    "\n",
    "가장 첫 줄에는 테스트 케이스의 개수 T가 주어지고, 그 아래로 각 테스트 케이스가 주어진다.\n",
    "\n",
    "각 테스트 케이스의 첫 번째 줄에는 10개의 수가 주어진다.\n",
    "\n",
    "```\n",
    "3 \n",
    "3 17 1 39 8 41 2 32 99 2\n",
    "22 8 5 123 7 2 63 7 3 46\n",
    "6 63 2 3 58 76 21 33 8 1\n",
    "```\n",
    "\n",
    "### [출력]\n",
    "\n",
    "출력의 각 줄은 '#t'로 시작하고, 공백을 한 칸 둔 다음 정답을 출력한다.\n",
    "\n",
    "(t는 테스트 케이스의 번호를 의미하며 1부터 시작한다.)\n",
    "\n",
    "```\n",
    "#1 99\n",
    "#2 123\n",
    "#3 76\n",
    "```"
   ]
  },
  {
   "cell_type": "code",
   "execution_count": 2,
   "metadata": {},
   "outputs": [
    {
     "name": "stdout",
     "output_type": "stream",
     "text": [
      "1\n",
      "1 2\n",
      "#1 2\n"
     ]
    }
   ],
   "source": [
    "case_number = int(input())\n",
    "\n",
    "result = []\n",
    "\n",
    "for loop_number in range(case_number):\n",
    "    case_list = [int(number) for number in input().split()]\n",
    "    result.append(max(case_list))\n",
    "\n",
    "for idx,ans in enumerate(result):\n",
    "    print(f\"#{idx+1} {ans}\")"
   ]
  },
  {
   "cell_type": "code",
   "execution_count": 4,
   "metadata": {},
   "outputs": [
    {
     "name": "stdout",
     "output_type": "stream",
     "text": [
      "3\n",
      "1 2\n",
      "#1 2\n",
      "3 4\n",
      "#2 4\n",
      "5 6\n",
      "#3 6\n"
     ]
    }
   ],
   "source": [
    "for loop_number in range(int(input())):\n",
    "    print(f\"#{loop_number+1} {max([int(number) for number in input().split()])}\")"
   ]
  }
 ],
 "metadata": {
  "kernelspec": {
   "display_name": "Python 3",
   "language": "python",
   "name": "python3"
  },
  "language_info": {
   "codemirror_mode": {
    "name": "ipython",
    "version": 3
   },
   "file_extension": ".py",
   "mimetype": "text/x-python",
   "name": "python",
   "nbconvert_exporter": "python",
   "pygments_lexer": "ipython3",
   "version": "3.7.3"
  }
 },
 "nbformat": 4,
 "nbformat_minor": 2
}
