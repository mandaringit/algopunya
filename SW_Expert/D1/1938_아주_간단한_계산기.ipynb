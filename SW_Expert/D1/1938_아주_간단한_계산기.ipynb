{
 "cells": [
  {
   "cell_type": "markdown",
   "metadata": {},
   "source": [
    "두 개의 자연수를 입력받아 사칙연산을 수행하는 프로그램을 작성하라.\n",
    "\n",
    " \n",
    "\n",
    "### [제약 사항]\n",
    "\n",
    "1. 두 개의 자연수 a, b는 1부터 9까지의 자연수이다. (1 ≤ a, b ≤ 9)\n",
    "\n",
    "2. 사칙연산 + , - , * , / 순서로 연산한 결과를 출력한다.\n",
    "\n",
    "3. 나누기 연산의 결과에서 소수점 이하의 숫자는 버린다.\n",
    "\n",
    " \n",
    "\n",
    "#### [입력]\n",
    "\n",
    "입력으로 두 개의 자연수 a, b가 빈 칸을 두고 주어진다.\n",
    "\n",
    "```\n",
    "8 3\n",
    "```\n",
    "\n",
    " \n",
    "\n",
    "#### [출력]\n",
    "\n",
    "사칙연산의 결과를 각 줄에 순서대로 출력한다.\n",
    "\n",
    "```\n",
    "11\n",
    "5\n",
    "24\n",
    "2\n",
    "```"
   ]
  },
  {
   "cell_type": "code",
   "execution_count": 7,
   "metadata": {},
   "outputs": [
    {
     "name": "stdout",
     "output_type": "stream",
     "text": [
      "3 8\n",
      "11\n",
      "-5\n",
      "24\n",
      "0.38\n"
     ]
    }
   ],
   "source": [
    "# 테스트에선 eval이 허용이 안됨\n",
    "a,b = (int(num) for num in input().split())\n",
    "operators = [\"+\",\"-\",\"*\",\"/\"]\n",
    "for op in operators:\n",
    "    if op ==\"+\":\n",
    "        print(a+b)\n",
    "    elif op == '-':\n",
    "        print(a-b)\n",
    "    elif op == '/':\n",
    "        print(a//b)\n",
    "    else:\n",
    "        print(a*b)"
   ]
  }
 ],
 "metadata": {
  "kernelspec": {
   "display_name": "Python 3",
   "language": "python",
   "name": "python3"
  },
  "language_info": {
   "codemirror_mode": {
    "name": "ipython",
    "version": 3
   },
   "file_extension": ".py",
   "mimetype": "text/x-python",
   "name": "python",
   "nbconvert_exporter": "python",
   "pygments_lexer": "ipython3",
   "version": "3.7.3"
  }
 },
 "nbformat": 4,
 "nbformat_minor": 2
}
