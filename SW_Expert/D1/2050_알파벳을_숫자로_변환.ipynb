{
 "cells": [
  {
   "cell_type": "markdown",
   "metadata": {},
   "source": [
    "## 알파벳을 숫자로 변환\n",
    "\n",
    "알파벳으로 이루어진 문자열을 입력 받아 각 알파벳을 1부터 26까지의 숫자로 변환하여 출력하라.\n",
    "\n",
    "\n",
    "#### [제약 사항]\n",
    "\n",
    "문자열의 최대 길이는 200이다.\n",
    "\n",
    "\n",
    "#### [입력]\n",
    "\n",
    "알파벳으로 이루어진 문자열이 주어진다.\n",
    "\n",
    "```\n",
    "ABCDEFGHIJKLMNOPQRSTUVWXYZ\n",
    "```\n",
    "\n",
    "#### [출력]\n",
    "\n",
    "각 알파벳을 숫자로 변환한 결과값을 빈 칸을 두고 출력한다.\n",
    "\n",
    "```\n",
    "1 2 3 4 5 6 7 8 9 10 11 12 13 14 15 16 17 18 19 20 21 22 23 24 25 26\n",
    "```"
   ]
  },
  {
   "cell_type": "code",
   "execution_count": 6,
   "metadata": {},
   "outputs": [
    {
     "name": "stdout",
     "output_type": "stream",
     "text": [
      "ABCD\n",
      "1 2 3 4 "
     ]
    }
   ],
   "source": [
    "#샘플을 줘서 만들고 해야지 바보야\n",
    "alphabet_sample = 'ABCDEFGHIJKLMNOPQRSTUVWXYZ'\n",
    "alpha_dict = {alphabet:idx+1 for idx,alphabet in enumerate(alphabet_sample)}\n",
    "\n",
    "alphabets = input()\n",
    "\n",
    "for idx,alphabet in enumerate(alphabets):\n",
    "        print(alpha_dict[alphabet],end=\" \")"
   ]
  },
  {
   "cell_type": "code",
   "execution_count": 1,
   "metadata": {},
   "outputs": [
    {
     "name": "stdout",
     "output_type": "stream",
     "text": [
      "ABCD\n",
      "1 2 3 4 "
     ]
    }
   ],
   "source": [
    "alphabets = input()\n",
    "\n",
    "for alphabet in alphabets:\n",
    "    print(ord(alphabet)-64,end=\" \")"
   ]
  }
 ],
 "metadata": {
  "kernelspec": {
   "display_name": "Python 3",
   "language": "python",
   "name": "python3"
  },
  "language_info": {
   "codemirror_mode": {
    "name": "ipython",
    "version": 3
   },
   "file_extension": ".py",
   "mimetype": "text/x-python",
   "name": "python",
   "nbconvert_exporter": "python",
   "pygments_lexer": "ipython3",
   "version": "3.7.3"
  }
 },
 "nbformat": 4,
 "nbformat_minor": 2
}
