{
 "cells": [
  {
   "cell_type": "markdown",
   "metadata": {},
   "source": [
    "## 2개의 수를 입력 받아 크기를 비교하여 등호 또는 부등호를 출력하는 프로그램을 작성하라.\n",
    "\n",
    "\n",
    "### [제약 사항]\n",
    "\n",
    "각 수는 0 이상 10000 이하의 정수이다.\n",
    "\n",
    "\n",
    "### [입력]\n",
    "\n",
    "가장 첫 줄에는 테스트 케이스의 개수 T가 주어지고, 그 아래로 각 테스트 케이스가 주어진다.\n",
    "\n",
    "각 테스트 케이스의 첫 번째 줄에는 2개의 수가 주어진다.\n",
    "\n",
    "```\n",
    "3\n",
    "3 8 \n",
    "7 7 \n",
    "369 123\n",
    "```\n",
    "\n",
    "\n",
    "### [출력]\n",
    "\n",
    "출력의 각 줄은 '#t'로 시작하고, 공백을 한 칸 둔 다음 정답을 출력한다.\n",
    "\n",
    "(t는 테스트 케이스의 번호를 의미하며 1부터 시작한다.)\n",
    "\n",
    "```\n",
    "#1 <\n",
    "#2 =\n",
    "#3 >\n",
    "```"
   ]
  },
  {
   "cell_type": "code",
   "execution_count": 5,
   "metadata": {},
   "outputs": [
    {
     "name": "stdout",
     "output_type": "stream",
     "text": [
      "1\n",
      "1 1\n",
      "#1 =\n"
     ]
    }
   ],
   "source": [
    "case_number = int(input())\n",
    "\n",
    "result =\"\"\n",
    "\n",
    "for loop_number in range(case_number):\n",
    "    num1,num2 = input().split()\n",
    "    ans =f'#{loop_number+1} '\n",
    "    if num1 > num2 :\n",
    "        ans += '>'\n",
    "    elif num1 < num2:\n",
    "        ans += '<'\n",
    "    else :\n",
    "        ans += '='\n",
    "        \n",
    "    result += ans\n",
    "    if loop_number+1 != case_number:\n",
    "        result+='\\n'\n",
    "\n",
    "print(result)"
   ]
  }
 ],
 "metadata": {
  "kernelspec": {
   "display_name": "Python 3",
   "language": "python",
   "name": "python3"
  },
  "language_info": {
   "codemirror_mode": {
    "name": "ipython",
    "version": 3
   },
   "file_extension": ".py",
   "mimetype": "text/x-python",
   "name": "python",
   "nbconvert_exporter": "python",
   "pygments_lexer": "ipython3",
   "version": "3.7.3"
  }
 },
 "nbformat": 4,
 "nbformat_minor": 2
}
