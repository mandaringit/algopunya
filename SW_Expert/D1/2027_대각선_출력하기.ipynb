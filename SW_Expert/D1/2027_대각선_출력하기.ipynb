{
 "cells": [
  {
   "cell_type": "markdown",
   "metadata": {},
   "source": [
    "주어진 텍스트를 그대로 출력하세요.\n",
    "\n",
    "#### 출력\n",
    "```\n",
    "#++++\n",
    "+#+++\n",
    "++#++\n",
    "+++#+\n",
    "++++#\n",
    "```"
   ]
  },
  {
   "cell_type": "code",
   "execution_count": 9,
   "metadata": {},
   "outputs": [
    {
     "name": "stdout",
     "output_type": "stream",
     "text": [
      "#++++\n",
      "+#+++\n",
      "++#++\n",
      "+++#+\n",
      "++++#\n"
     ]
    }
   ],
   "source": [
    "length = 5\n",
    "for sharp in range(length):\n",
    "    result = \"\"\n",
    "    for plus in range(length):\n",
    "        if plus == sharp:\n",
    "            result+=\"#\"\n",
    "        else:\n",
    "            result+=\"+\"\n",
    "    print(result)"
   ]
  }
 ],
 "metadata": {
  "kernelspec": {
   "display_name": "Python 3",
   "language": "python",
   "name": "python3"
  },
  "language_info": {
   "codemirror_mode": {
    "name": "ipython",
    "version": 3
   },
   "file_extension": ".py",
   "mimetype": "text/x-python",
   "name": "python",
   "nbconvert_exporter": "python",
   "pygments_lexer": "ipython3",
   "version": "3.7.3"
  }
 },
 "nbformat": 4,
 "nbformat_minor": 2
}
