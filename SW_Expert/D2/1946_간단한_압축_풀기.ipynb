{
 "cells": [
  {
   "cell_type": "markdown",
   "metadata": {},
   "source": [
    "원본 문서는 너비가 10인 여러 줄의 문자열로 이루어져 있다.\n",
    "\n",
    "문자열은 마지막 줄을 제외하고 빈 공간 없이 알파벳으로 채워져 있고 마지막 줄은 왼쪽부터 채워져 있다.\n",
    "\n",
    "이 문서를 압축한 문서는 알파벳과 그 알파벳의 연속된 개수로 이루어진 쌍들이 나열되어 있다. (예 : A 5    AAAAA)\n",
    "\n",
    "압축된 문서를 입력 받아 원본 문서를 만드는 프로그램을 작성하시오.\n",
    "\n",
    "#### [예제]\n",
    "압축된 문서의 내용\n",
    "\n",
    "```\n",
    "A 10\n",
    "B 7\n",
    "C 5\n",
    "```\n",
    "\n",
    "압축을 풀었을 때 원본 문서의 내용\n",
    "\n",
    "```\n",
    "AAAAAAAAAA\n",
    "BBBBBBBCCC\n",
    "CC\n",
    "```\n",
    "\n",
    "#### [제약사항]\n",
    "\n",
    "1. 압축된 문서의 알파벳과 숫자 쌍의 개수 N은1이상 10이하의 정수이다. (1 ≤ N ≤ 10)\n",
    "\n",
    "2. 주어지는 알파벳 Ci는 A-Z의 대문자이다. (i는 줄의 번호로 1 ~ N까지의 수)\n",
    "\n",
    "3. 알파벳의 연속된 개수로 주어지는 수 Ki는 1이상 20이하의 정수이다. (1 ≤ Ki ≤ 20, i는 줄의 번호로 1~N까지의 수)\n",
    "\n",
    "4. 원본 문서의 너비는 10으로 고정이다.\n",
    "\n",
    "\n",
    "#### [입력]\n",
    "\n",
    "가장 첫 줄에는 테스트 케이스의 개수 T가 주어지고, 그 아래로 각 테스트 케이스가 주어진다.\n",
    "\n",
    "각 테스트 케이스에는 N이 주어지고 다음 줄부터 N+1줄까지 Ci와 Ki가 빈 칸을 사이에 두고 주어진다.\n",
    "\n",
    "```\n",
    "1\n",
    "3\n",
    "A 10\n",
    "B 7\n",
    "C 5 \n",
    "```\n",
    "\n",
    "\n",
    "#### [출력]\n",
    "\n",
    "각 줄은 '#t'로 시작하고, 다음 줄부터 원본 문서를 출력한다.\n",
    "\n",
    "(t는 테스트 케이스의 번호를 의미하며 1부터 시작한다.)\n",
    "\n",
    "```\n",
    "#1\n",
    "AAAAAAAAAA\n",
    "BBBBBBBCCC\n",
    "CC\n",
    "```"
   ]
  },
  {
   "cell_type": "code",
   "execution_count": 10,
   "metadata": {},
   "outputs": [
    {
     "name": "stdout",
     "output_type": "stream",
     "text": [
      "AAAAAAAAAABBBBBBBBCCCCCCCCDDDDDDDDDD\n",
      "AAAAAAAAAA\n",
      "BBBBBBBBCC\n",
      "CCCCCCDDDD\n",
      "DDDDDD\n"
     ]
    }
   ],
   "source": [
    "total_word = \"A\"*10 + \"B\"*8 + \"C\"*8 +\"D\"*10 \n",
    "print(total_word)\n",
    "\n",
    "result_word = \"\"\n",
    "line = 0\n",
    "for idx,char in enumerate(total_word):\n",
    "    result_word += char\n",
    "    if idx == 9 + line * 10:\n",
    "        result_word += \"\\n\"\n",
    "        line+=1\n",
    "    \n",
    "print(result_word)"
   ]
  },
  {
   "cell_type": "code",
   "execution_count": 16,
   "metadata": {},
   "outputs": [
    {
     "name": "stdout",
     "output_type": "stream",
     "text": [
      "1\n",
      "1\n",
      "A 10\n",
      "#1\n",
      "AAAAAAAAAA\n",
      "\n"
     ]
    }
   ],
   "source": [
    "test_case = int(input())\n",
    "\n",
    "for case_number in range(test_case):\n",
    "    \n",
    "    zip_number = int(input())\n",
    "    total_word = \"\"\n",
    "    result_word =f\"#{case_number+1}\\n\"\n",
    "    line = 0\n",
    "    \n",
    "    for word_number in range(zip_number):\n",
    "        zip_word = input().split()\n",
    "        word = zip_word[0]\n",
    "        length = int(zip_word[1])\n",
    "        total_word += word * length\n",
    "    \n",
    "    for idx,char in enumerate(total_word):\n",
    "        result_word += char\n",
    "        line_end = line*10 + 9 # < - 줄일수 있음\n",
    "        if idx == line_end:\n",
    "            result_word += \"\\n\"\n",
    "            line += 1\n",
    "    \n",
    "    print(result_word)\n"
   ]
  },
  {
   "cell_type": "code",
   "execution_count": 17,
   "metadata": {},
   "outputs": [
    {
     "name": "stdout",
     "output_type": "stream",
     "text": [
      "1\n",
      "3\n",
      "A 10\n",
      "B 7\n",
      "C 5\n",
      "#1\n",
      "AAAAAAAAAA\n",
      "BBBBBBBCCC\n",
      "CC\n"
     ]
    }
   ],
   "source": [
    "cases = int(input())\n",
    "\n",
    "for case_count in range(cases):\n",
    "    \n",
    "    zip_count = int(input())\n",
    "    total_word = \"\"\n",
    "    result_word =f\"#{case_count+1}\\n\"\n",
    "    \n",
    "    for word_count in range(zip_count):\n",
    "        zip_word = input().split()\n",
    "        total_word += zip_word[0] * int(zip_word[1])\n",
    "    \n",
    "    for idx,char in enumerate(total_word):\n",
    "        result_word += char\n",
    "        if idx % 10 == 9:\n",
    "            result_word += \"\\n\"\n",
    "    \n",
    "    print(result_word)"
   ]
  }
 ],
 "metadata": {
  "kernelspec": {
   "display_name": "Python 3",
   "language": "python",
   "name": "python3"
  },
  "language_info": {
   "codemirror_mode": {
    "name": "ipython",
    "version": 3
   },
   "file_extension": ".py",
   "mimetype": "text/x-python",
   "name": "python",
   "nbconvert_exporter": "python",
   "pygments_lexer": "ipython3",
   "version": "3.7.3"
  }
 },
 "nbformat": 4,
 "nbformat_minor": 2
}
