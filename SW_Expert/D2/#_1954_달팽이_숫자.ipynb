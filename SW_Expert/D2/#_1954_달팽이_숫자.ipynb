{
 "cells": [
  {
   "cell_type": "markdown",
   "metadata": {},
   "source": [
    "달팽이는 1부터 N*N까지의 숫자가 시계방향으로 이루어져 있다.\n",
    "\n",
    "다음과 같이 정수 N을 입력 받아 N크기의 달팽이를 출력하시오.\n",
    "\n",
    "\n",
    "#### [예제]\n",
    "\n",
    "N이 3일 경우,\n",
    "\n",
    "![그림1](img/1954_1.PNG)\n",
    "\n",
    "N이 4일 경우,\n",
    " \n",
    "![그림2](img/1954_2.PNG)\n",
    "\n",
    "#### [제약사항]\n",
    "\n",
    "달팽이의 크기 N은 1 이상 10 이하의 정수이다. (1 ≤ N ≤ 10)\n",
    "\n",
    "\n",
    "#### [입력]\n",
    "\n",
    "가장 첫 줄에는 테스트 케이스의 개수 T가 주어지고, 그 아래로 각 테스트 케이스가 주어진다.\n",
    "\n",
    "각 테스트 케이스에는 N이 주어진다.\n",
    "\n",
    "\n",
    "#### [출력]\n",
    "\n",
    "각 줄은 '#t'로 시작하고, 다음 줄부터 빈칸을 사이에 두고 달팽이 숫자를 출력한다.\n",
    "\n",
    "(t는 테스트 케이스의 번호를 의미하며 1부터 시작한다.)"
   ]
  },
  {
   "cell_type": "code",
   "execution_count": null,
   "metadata": {},
   "outputs": [],
   "source": []
  }
 ],
 "metadata": {
  "kernelspec": {
   "display_name": "Python 3",
   "language": "python",
   "name": "python3"
  },
  "language_info": {
   "codemirror_mode": {
    "name": "ipython",
    "version": 3
   },
   "file_extension": ".py",
   "mimetype": "text/x-python",
   "name": "python",
   "nbconvert_exporter": "python",
   "pygments_lexer": "ipython3",
   "version": "3.7.3"
  }
 },
 "nbformat": 4,
 "nbformat_minor": 2
}
