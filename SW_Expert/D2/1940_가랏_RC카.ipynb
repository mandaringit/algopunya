{
 "cells": [
  {
   "cell_type": "markdown",
   "metadata": {},
   "source": [
    "RC (Radio Control) 카의 이동거리를 계산하려고 한다.\n",
    "\n",
    "입력으로 매 초마다 아래와 같은 command 가 정수로 주어진다.\n",
    "\n",
    "0 : 현재 속도 유지.\n",
    "1 : 가속\n",
    "2 : 감속\n",
    "\n",
    "위 command 중, 가속(1) 또는 감속(2) 의 경우 가속도의 값이 추가로 주어진다.\n",
    "\n",
    "가속도의 단위는, m/s2 이며, 모두 양의 정수로 주어진다.\n",
    "\n",
    "입력으로 주어진 N 개의 command 를 모두 수행했을 때, N 초 동안 이동한 거리를 계산하는 프로그램을 작성하라.\n",
    "\n",
    "RC 카의 초기 속도는 0 m/s 이다.\n",
    "\n",
    "#### [예제]\n",
    "\n",
    "아래 예제 입력에서 정답은 3 이 된다.\n",
    "\n",
    "| 입력 | 시간  | RC카의 속도 | RC카의 이동거리 |\n",
    "|------|-------|-------------|-----------------|\n",
    "| 1 2  | 1 sec | 2 m/s       | 2 m             |\n",
    "| 2 1  | 2 sec | 1 m/s       | 3 m             |\n",
    "\n",
    "\n",
    "#### [제약사항]\n",
    "\n",
    "1. N은 2이상 30이하의 정수이다. (2 ≤ N ≤ 30)\n",
    "\n",
    "2. 가속도의 값은 1 m/s2 혹은 2 m/s2 이다.\n",
    "\n",
    "__3. 현재 속도보다 감속할 속도가 더 클 경우, 속도는 0 m/s 가 된다.__\n",
    "\n",
    "\n",
    "#### [입력]\n",
    "\n",
    "입력은 첫 줄에 총 테스트 케이스의 개수 T, 다음 줄부터 각 테스트 케이스가 주어진다.\n",
    "\n",
    "테스트 케이스 첫 줄에는 Command 의 수 N이 주어지고, 둘째 줄부터, 매 줄마다 각각의 Command가 주어진다.\n",
    "\n",
    "```\n",
    "10\n",
    "2\n",
    "1 2\n",
    "2 1\n",
    "3\n",
    "1 1\n",
    "0\n",
    "1 1\n",
    "5\n",
    "1 2\n",
    "1 2\n",
    "2 1\n",
    "0\n",
    "0\n",
    "…\n",
    "```\n",
    "\n",
    "\n",
    "#### [출력]\n",
    "\n",
    "테스트 케이스 t에 대한 결과는 “#t”을 찍고, 한 칸 띄고, 정답을 출력한다.\n",
    "\n",
    "(t는 테스트 케이스의 번호를 의미하며 1부터 시작한다.)\n",
    "\n",
    "```\n",
    "#1 3\n",
    "#2 4\n",
    "...\n",
    "```\n"
   ]
  },
  {
   "cell_type": "code",
   "execution_count": 5,
   "metadata": {},
   "outputs": [
    {
     "name": "stdout",
     "output_type": "stream",
     "text": [
      "1 2\n",
      "2\n"
     ]
    }
   ],
   "source": [
    "move = 1\n",
    "V = 0\n",
    "distance = 0\n",
    "for move_count in range(move):\n",
    "    command = list(map(int,input().split()))\n",
    "    if command[0] == 1 :\n",
    "        a = command[1]\n",
    "        V += a\n",
    "    elif command[0] == 2 and V > 0:\n",
    "        a = command[1]\n",
    "        V -= a\n",
    "        if V <= 0:\n",
    "            V = 0\n",
    "    \n",
    "    distance += V\n",
    "print(distance)"
   ]
  },
  {
   "cell_type": "code",
   "execution_count": 9,
   "metadata": {},
   "outputs": [
    {
     "name": "stdout",
     "output_type": "stream",
     "text": [
      "1\n",
      "1\n",
      "1 2\n",
      "#1 2\n"
     ]
    }
   ],
   "source": [
    "case = int(input())\n",
    "\n",
    "for case_count in range(case):\n",
    "    \n",
    "    move = int(input())\n",
    "    V = 0\n",
    "    distance = 0\n",
    "    \n",
    "    for command_count in range(move):\n",
    "        command = list(map(int,input().split()))\n",
    "        if command[0] == 1 :\n",
    "            a = command[1]\n",
    "            V += a\n",
    "        elif command[0] == 2 and V > 0:\n",
    "            a = command[1]\n",
    "            V -= a\n",
    "            if V <= 0:\n",
    "                V = 0\n",
    "\n",
    "        distance += V\n",
    "    \n",
    "    print(f\"#{case_count + 1} {distance}\")"
   ]
  }
 ],
 "metadata": {
  "kernelspec": {
   "display_name": "Python 3",
   "language": "python",
   "name": "python3"
  },
  "language_info": {
   "codemirror_mode": {
    "name": "ipython",
    "version": 3
   },
   "file_extension": ".py",
   "mimetype": "text/x-python",
   "name": "python",
   "nbconvert_exporter": "python",
   "pygments_lexer": "ipython3",
   "version": "3.7.3"
  }
 },
 "nbformat": 4,
 "nbformat_minor": 2
}
