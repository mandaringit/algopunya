{
 "cells": [
  {
   "cell_type": "markdown",
   "metadata": {},
   "source": [
    "1부터 N까지의 숫자에서 홀수는 더하고 짝수는 뺐을 때 최종 누적된 값을 구해보자.\n",
    "\n",
    "\n",
    "#### [예제 풀이]\n",
    "\n",
    "N이 5일 경우,\n",
    "\n",
    "1 – 2 + 3 – 4 + 5 = 3\n",
    "\n",
    "N이 6일 경우,\n",
    "\n",
    "1 – 2 + 3 – 4 + 5 – 6 = -3\n",
    "\n",
    "\n",
    "#### [제약사항]\n",
    "\n",
    "N은 1 이상 10 이하의 정수이다. (1 ≤ N ≤ 10)\n",
    "\n",
    "\n",
    "#### [입력]\n",
    "\n",
    "가장 첫 줄에는 테스트 케이스의 개수 T가 주어지고, 그 아래로 각 테스트 케이스가 주어진다.\n",
    "\n",
    "각 테스트 케이스에는 N이 주어진다.\n",
    "\n",
    "```\n",
    "2\n",
    "5\n",
    "6\n",
    "```\n",
    "\n",
    "\n",
    "#### [출력]\n",
    "\n",
    "각 줄은 '#t'로 시작하고, 공백을 한 칸 둔 다음 누적된 값을 출력한다.\n",
    "\n",
    "(t는 테스트 케이스의 번호를 의미하며 1부터 시작한다.)\n",
    "\n",
    "```\n",
    "#1 3\n",
    "#2 -3\n",
    "```"
   ]
  },
  {
   "cell_type": "code",
   "execution_count": 6,
   "metadata": {},
   "outputs": [
    {
     "name": "stdout",
     "output_type": "stream",
     "text": [
      "-3\n"
     ]
    }
   ],
   "source": [
    "N = 6\n",
    "\n",
    "total = 0\n",
    "for i in range(1,N+1):\n",
    "    # 홀수면\n",
    "    if i % 2:\n",
    "        total += i\n",
    "    else :\n",
    "        total -= i\n",
    "print(total)"
   ]
  },
  {
   "cell_type": "code",
   "execution_count": 7,
   "metadata": {},
   "outputs": [
    {
     "name": "stdout",
     "output_type": "stream",
     "text": [
      "2\n",
      "5\n",
      "#1 3\n",
      "6\n",
      "#2 -3\n"
     ]
    }
   ],
   "source": [
    "test_case = int(input())\n",
    "\n",
    "for case_number in range(test_case):\n",
    "    N = int(input())\n",
    "    \n",
    "    total = 0\n",
    "    for i in range(1,N+1):\n",
    "        total = total + i if i % 2 else total - i\n",
    "    \n",
    "    print(f\"#{case_number + 1} {total}\")\n",
    "    "
   ]
  }
 ],
 "metadata": {
  "kernelspec": {
   "display_name": "Python 3",
   "language": "python",
   "name": "python3"
  },
  "language_info": {
   "codemirror_mode": {
    "name": "ipython",
    "version": 3
   },
   "file_extension": ".py",
   "mimetype": "text/x-python",
   "name": "python",
   "nbconvert_exporter": "python",
   "pygments_lexer": "ipython3",
   "version": "3.7.3"
  }
 },
 "nbformat": 4,
 "nbformat_minor": 2
}
