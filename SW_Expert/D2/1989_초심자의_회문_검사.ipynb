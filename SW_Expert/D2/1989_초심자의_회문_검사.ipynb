{
 "cells": [
  {
   "cell_type": "markdown",
   "metadata": {},
   "source": [
    "\"level\" 과 같이 거꾸로 읽어도 제대로 읽은 것과 같은 문장이나 낱말을 회문(回文, palindrome)이라 한다.\n",
    "\n",
    "단어를 입력 받아 회문이면 1을 출력하고, 아니라면 0을 출력하는 프로그램을 작성하라.\n",
    "\n",
    "\n",
    "#### [제약 사항]\n",
    "\n",
    "각 단어의 길이는 3 이상 10 이하이다.\n",
    "\n",
    "\n",
    "#### [입력]\n",
    "\n",
    "가장 첫 줄에는 테스트 케이스의 개수 T가 주어지고, 그 아래로 각 테스트 케이스가 주어진다.\n",
    "\n",
    "각 테스트 케이스의 첫 번째 줄에 하나의 단어가 주어진다.\n",
    "\n",
    "\n",
    "#### [출력]\n",
    "\n",
    "출력의 각 줄은 '#t'로 시작하고, 공백을 한 칸 둔 다음 정답을 출력한다.\n",
    "\n",
    "(t는 테스트 케이스의 번호를 의미하며 1부터 시작한다.)"
   ]
  },
  {
   "cell_type": "code",
   "execution_count": 1,
   "metadata": {},
   "outputs": [
    {
     "name": "stdout",
     "output_type": "stream",
     "text": [
      "1\n",
      "1\n",
      "#1 1\n"
     ]
    }
   ],
   "source": [
    "case_number = int(input())\n",
    "\n",
    "for loop_number in range(case_number):\n",
    "    word = input()\n",
    "    output = f\"#{loop_number + 1} \"\n",
    "    \n",
    "    if word == word[::-1]:\n",
    "        output += \"1\"\n",
    "    else:\n",
    "        output += \"0\"\n",
    "     \n",
    "    print(output)"
   ]
  },
  {
   "cell_type": "code",
   "execution_count": 2,
   "metadata": {},
   "outputs": [
    {
     "name": "stdout",
     "output_type": "stream",
     "text": [
      "1\n",
      "lebel\n",
      "#1 1\n"
     ]
    }
   ],
   "source": [
    "case_number = int(input())\n",
    "\n",
    "for loop_number in range(case_number):\n",
    "    word = input()\n",
    "    output = f\"#{loop_number + 1} \"\n",
    "    output = output + \"1\" if word == word[::-1] else  output + \"0\"\n",
    "    \n",
    "    print(output)"
   ]
  }
 ],
 "metadata": {
  "kernelspec": {
   "display_name": "Python 3",
   "language": "python",
   "name": "python3"
  },
  "language_info": {
   "codemirror_mode": {
    "name": "ipython",
    "version": 3
   },
   "file_extension": ".py",
   "mimetype": "text/x-python",
   "name": "python",
   "nbconvert_exporter": "python",
   "pygments_lexer": "ipython3",
   "version": "3.7.3"
  }
 },
 "nbformat": 4,
 "nbformat_minor": 2
}
