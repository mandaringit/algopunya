{
 "cells": [
  {
   "cell_type": "markdown",
   "metadata": {},
   "source": [
    "숫자 N은 아래와 같다.\n",
    "\n",
    "N=2^a x 3^b x 5^c x 7^d x 11^e\n",
    "\n",
    "N이 주어질 때 a, b, c, d, e 를 출력하라.\n",
    "\n",
    "\n",
    "[제약 사항]\n",
    "\n",
    "N은 2 이상 10,000,000 이하이다.\n",
    "\n",
    "\n",
    "[입력]\n",
    "\n",
    "가장 첫 줄에는 테스트 케이스의 개수 T가 주어지고, 그 아래로 각 테스트 케이스가 주어진다.\n",
    "\n",
    "각 테스트 케이스의 첫 번째 줄에 N 이 주어진다.\n",
    "\n",
    "```\n",
    "10  \n",
    "6791400\n",
    "1646400\n",
    "1425600\n",
    "8575\n",
    "185625\n",
    "6480\n",
    "1185408\n",
    "6561\n",
    "25\n",
    "330750\n",
    "```\n",
    "\n",
    "[출력]\n",
    "\n",
    "출력의 각 줄은 '#t'로 시작하고, 공백을 한 칸 둔 다음 정답을 출력한다.\n",
    "\n",
    "(t는 테스트 케이스의 번호를 의미하며 1부터 시작한다.)\n",
    "\n",
    "```\n",
    "#1 3 2 2 3 1\n",
    "#2 6 1 2 3 0\n",
    "#3 6 4 2 0 1\n",
    "#4 0 0 2 3 0\n",
    "#5 0 3 4 0 1\n",
    "#6 4 4 1 0 0\n",
    "#7 7 3 0 3 0\n",
    "#8 0 8 0 0 0\n",
    "#9 0 0 2 0 0\n",
    "#10 1 3 3 2 0\n",
    "```"
   ]
  },
  {
   "cell_type": "code",
   "execution_count": 4,
   "metadata": {},
   "outputs": [
    {
     "name": "stdout",
     "output_type": "stream",
     "text": [
      "[2, 3, 5, 7, 11]\n",
      "{2: 3, 3: 2, 5: 2, 7: 3, 11: 1}\n"
     ]
    }
   ],
   "source": [
    "power_dict={\n",
    "    2:0,\n",
    "    3:0,\n",
    "    5:0,\n",
    "    7:0,\n",
    "    11:0\n",
    "}\n",
    "\n",
    "N = 6791400\n",
    "prime_factors = list(power_dict.keys())\n",
    "print(prime_factors)\n",
    "factor_idx = 0\n",
    "\n",
    "while N != 1:\n",
    "    prime_factor = prime_factors[factor_idx]\n",
    "    if N % prime_factor ==0:\n",
    "        power_dict[prime_factor] += 1\n",
    "        N = N//prime_factor\n",
    "    else :\n",
    "        factor_idx +=1\n",
    "\n",
    "print(power_dict)"
   ]
  },
  {
   "cell_type": "code",
   "execution_count": null,
   "metadata": {},
   "outputs": [],
   "source": [
    "cases = int(input())\n",
    "\n",
    "for case_count in range(cases):\n",
    "    N = int(input())\n",
    "    result =f\"#{case_count+1}\"\n",
    "    power_dict={\n",
    "        2:0,\n",
    "        3:0,\n",
    "        5:0,\n",
    "        7:0,\n",
    "        11:0\n",
    "    }\n",
    "    \n",
    "    prime_factors = list(power_dict.keys())\n",
    "    factor_idx = 0\n",
    "    while N != 1:\n",
    "        prime_factor = prime_factors[factor_idx]\n",
    "        if N % prime_factor ==0:\n",
    "            power_dict[prime_factor] += 1\n",
    "            N = N//prime_factor\n",
    "        else :\n",
    "            factor_idx +=1\n",
    "    \n",
    "    for value in power_dict.values():\n",
    "        result += f\" {value}\"\n",
    "    \n",
    "    print(result)"
   ]
  }
 ],
 "metadata": {
  "kernelspec": {
   "display_name": "Python 3",
   "language": "python",
   "name": "python3"
  },
  "language_info": {
   "codemirror_mode": {
    "name": "ipython",
    "version": 3
   },
   "file_extension": ".py",
   "mimetype": "text/x-python",
   "name": "python",
   "nbconvert_exporter": "python",
   "pygments_lexer": "ipython3",
   "version": "3.7.3"
  }
 },
 "nbformat": 4,
 "nbformat_minor": 2
}
