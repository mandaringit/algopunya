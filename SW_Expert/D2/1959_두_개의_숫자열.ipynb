{
 "cells": [
  {
   "cell_type": "markdown",
   "metadata": {},
   "source": [
    "N 개의 숫자로 구성된 숫자열 Ai (i=1~N) 와 \n",
    "\n",
    "M 개의 숫자로 구성된 숫자열 Bj (j=1~M) 가 있다.\n",
    "\n",
    "아래는 N =3 인 Ai 와 M = 5 인 Bj 의 예이다.\n",
    "\n",
    "![그림1](img/1959_1.PNG)\n",
    "\n",
    "Ai 나 Bj 를 자유롭게 움직여서 숫자들이 서로 마주보는 위치를 변경할 수 있다.\n",
    "\n",
    "단, 더 긴 쪽의 양끝을 벗어나서는 안 된다.\n",
    " \n",
    "![그림2](img/1959_2.PNG)\n",
    "\n",
    "서로 마주보는 숫자들을 곱한 뒤 모두 더할 때 최댓값을 구하라.\n",
    "\n",
    "위 예제의 정답은 아래와 같이 30 이 된다.\n",
    " \n",
    "![그림3](img/1959_3.PNG)\n",
    "\n",
    "#### [제약 사항]\n",
    "\n",
    "N 과 M은 3 이상 20 이하이다.\n",
    "\n",
    "\n",
    "#### [입력]\n",
    "\n",
    "가장 첫 줄에는 테스트 케이스의 개수 T가 주어지고, 그 아래로 각 테스트 케이스가 주어진다.\n",
    "\n",
    "각 테스트 케이스의 첫 번째 줄에 N 과 M 이 주어지고,\n",
    "\n",
    "두 번째 줄에는 Ai,\n",
    "\n",
    "세 번째 줄에는 Bj 가 주어진다.\n",
    "\n",
    "```\n",
    "10\n",
    "3 5\n",
    "1 5 3\n",
    "3 6 -7 5 4\n",
    "7 6\n",
    "6 0 5 5 -1 1 6\n",
    "-4 1 8 7 -9 3\n",
    "...\n",
    "```\n",
    "\n",
    "#### [출력]\n",
    "\n",
    "출력의 각 줄은 '#t'로 시작하고, 공백을 한 칸 둔 다음 정답을 출력한다.\n",
    "\n",
    "(t는 테스트 케이스의 번호를 의미하며 1부터 시작한다.)\n",
    "\n",
    "```\n",
    "#1 30\n",
    "#2 63\n",
    "...\n",
    "```"
   ]
  },
  {
   "cell_type": "code",
   "execution_count": 12,
   "metadata": {},
   "outputs": [
    {
     "name": "stdout",
     "output_type": "stream",
     "text": [
      "[(1, 3), (5, 6), (3, -7)]\n"
     ]
    }
   ],
   "source": [
    "# 길이 비교를 통해 작은놈을 선택하고, 그놈을 움직이여함\n",
    "len_A = 3\n",
    "len_B = 5\n",
    "\n",
    "A = [1,5,3]\n",
    "B = [3,6,-7,5,4]\n",
    "\n",
    "print(list(zip(A,B)))"
   ]
  },
  {
   "cell_type": "code",
   "execution_count": 17,
   "metadata": {},
   "outputs": [
    {
     "name": "stdout",
     "output_type": "stream",
     "text": [
      "[0, 1, 5, 3]\n",
      "[(0, 3), (1, 6), (5, -7), (3, 5)]\n",
      "-14\n"
     ]
    }
   ],
   "source": [
    "A = [1,5,3]\n",
    "B = [3,6,-7,5,4]\n",
    "\n",
    "A.insert(0,0)\n",
    "print(A)\n",
    "\n",
    "zip_list = list(zip(A,B))\n",
    "print(zip_list)\n",
    "\n",
    "zip_total = 0\n",
    "\n",
    "for tp in zip_list:\n",
    "    zip_total += tp[0] * tp[1]\n",
    "print(zip_total)"
   ]
  },
  {
   "cell_type": "code",
   "execution_count": 21,
   "metadata": {},
   "outputs": [
    {
     "name": "stdout",
     "output_type": "stream",
     "text": [
      "[(1, 3), (5, 6), (3, -7)]\n",
      "12\n",
      "[(0, 3), (1, 6), (5, -7), (3, 5)]\n",
      "-14\n",
      "[(0, 3), (0, 6), (1, -7), (5, 5), (3, 4)]\n",
      "30\n",
      "30\n"
     ]
    }
   ],
   "source": [
    "A = [1,5,3]\n",
    "B = [3,6,-7,5,4]\n",
    "max_sum = -float('inf')\n",
    "while len(A) != len(B) + 1:\n",
    "    zip_list = list(zip(A,B))\n",
    "    print(zip_list)\n",
    "    zip_total = 0\n",
    "\n",
    "    for tp in zip_list:\n",
    "        zip_total += tp[0] * tp[1]\n",
    "    print(zip_total)\n",
    "    if zip_total > max_sum:\n",
    "        max_sum = zip_total\n",
    "    A.insert(0,0)\n",
    "print(max_sum)"
   ]
  },
  {
   "cell_type": "code",
   "execution_count": null,
   "metadata": {},
   "outputs": [],
   "source": [
    "test_case = int(input())\n",
    "\n",
    "for case_number in range(test_case):\n",
    "    A_len,B_len = (int(num) for num in input().split())\n",
    "    if A_len >= B_len:\n",
    "        fix = [int(num) for num in input().split()]\n",
    "        move = [int(num) for num in input().split()]\n",
    "    else:\n",
    "        move = [int(num) for num in input().split()]\n",
    "        fix = [int(num) for num in input().split()]\n",
    "    \n",
    "    max_sum = -float('inf')\n",
    "    \n",
    "    while len(move) != len(fix) + 1:\n",
    "        zip_list = list(zip(move,fix))\n",
    "        zip_total = 0\n",
    "\n",
    "        for tp in zip_list:\n",
    "            zip_total += tp[0] * tp[1]\n",
    "            \n",
    "        if zip_total > max_sum:\n",
    "            max_sum = zip_total\n",
    "        move.insert(0,0)\n",
    "    \n",
    "    print(f\"#{case_number+1} {max_sum}\")"
   ]
  }
 ],
 "metadata": {
  "kernelspec": {
   "display_name": "Python 3",
   "language": "python",
   "name": "python3"
  },
  "language_info": {
   "codemirror_mode": {
    "name": "ipython",
    "version": 3
   },
   "file_extension": ".py",
   "mimetype": "text/x-python",
   "name": "python",
   "nbconvert_exporter": "python",
   "pygments_lexer": "ipython3",
   "version": "3.7.3"
  }
 },
 "nbformat": 4,
 "nbformat_minor": 2
}
