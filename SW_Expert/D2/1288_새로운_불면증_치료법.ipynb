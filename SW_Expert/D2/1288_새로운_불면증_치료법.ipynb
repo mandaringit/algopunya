{
 "cells": [
  {
   "cell_type": "markdown",
   "metadata": {},
   "source": [
    "민석이는 불면증에 걸렸다. 그래서 잠이 안 올 때의 민간요법 중 하나인 양 세기를 하려고 한다.\n",
    "\n",
    "민석이는 1번 양부터 순서대로 세는 것이 재미없을 것 같아서 N의 배수 번호인 양을 세기로 하였다.\n",
    "\n",
    "즉, 첫 번째에는 N번 양을 세고, 두 번째에는 2N번 양, … , k번째에는 kN번 양을 센다.\n",
    "\n",
    "이렇게 숫자를 세던 민석이에게 잠은 더 오지 않고 다음과 같은 궁금증이 생겼다.\n",
    "\n",
    "이전에 셌던 번호들의 각 자리수에서 0에서 9까지의 모든 숫자를 보는 것은 최소 몇 번 양을 센 시점일까?\n",
    "\n",
    "예를 들어 N = 1295이라고 하자.\n",
    "\n",
    "첫 번째로 N = 1295번 양을 센다. 현재 본 숫자는 1, 2, 5, 9이다.\n",
    "\n",
    "두 번째로 2N = 2590번 양을 센다. 현재 본 숫자는 0, 2, 5, 9이다.\n",
    "\n",
    "현재까지 본 숫자는 0, 1, 2, 5, 9이다.\n",
    "\n",
    "세 번째로 3N = 3885번 양을 센다. 현재 본 숫자는 3, 5, 8이다.\n",
    "\n",
    "현재까지 본 숫자는 0, 1, 2, 3, 5, 8, 9이다.\n",
    "\n",
    "네 번째로 4N = 5180번 양을 센다. 현재 본 숫자는 0, 1, 5, 8이다.\n",
    "\n",
    "현재까지 본 숫자는 0, 1, 2, 3, 5, 8, 9이다.\n",
    "\n",
    "다섯 번째로 5N = 6475번 양을 센다. 현재 본 숫자는 4, 5, 6, 7이다.\n",
    "\n",
    "현재까지 본 숫자는 0, 1, 2, 3, 4, 5, 6, 7, 8, 9이다.\n",
    "\n",
    "5N번 양을 세면 0에서 9까지 모든 숫자를 보게 되므로 민석이는 양 세기를 멈춘다.\n",
    "\n",
    "#### [입력]\n",
    "\n",
    "첫 번째 줄에 테스트 케이스의 수 T가 주어진다.\n",
    "\n",
    "각 테스트 케이스의 첫 번째 줄에는 N (1 ≤ N ≤ 10^6)이 주어진다.\n",
    "\n",
    "```\n",
    "5\n",
    "1\n",
    "2\n",
    "11\n",
    "1295\n",
    "1692\n",
    "```\n",
    "\n",
    "#### [출력]\n",
    "\n",
    "각 테스트 케이스마다 ‘#x’(x는 테스트케이스 번호를 의미하며 1부터 시작한다)를 출력하고,\n",
    "\n",
    "최소 몇 번 양을 세었을 때 이전에 봤던 숫자들의 자릿수에서 0에서 9까지의 모든 숫자를 보게 되는지 출력한다.\n",
    "\n",
    "( 민석이는 xN번 양을 세고 있다. )\n",
    "\n",
    "```\n",
    "#1 10\n",
    "#2 90\n",
    "#3 110\n",
    "#4 6475\n",
    "#5 5076\n",
    "```"
   ]
  },
  {
   "cell_type": "code",
   "execution_count": 2,
   "metadata": {},
   "outputs": [
    {
     "name": "stdout",
     "output_type": "stream",
     "text": [
      "110\n"
     ]
    }
   ],
   "source": [
    "N = 11\n",
    "\n",
    "true_set ={'1','2','3','4','5','6','7','8','9','0'}\n",
    "answer_set = set()\n",
    "count = 0\n",
    "next_num = N\n",
    "\n",
    "while answer_set != true_set:\n",
    "    count += 1\n",
    "    next_num = N*(count)\n",
    "    str_N = str(next_num)\n",
    "    for num in str_N:\n",
    "        answer_set.add(num)\n",
    "    \n",
    "    \n",
    "print(next_num)"
   ]
  },
  {
   "cell_type": "code",
   "execution_count": null,
   "metadata": {},
   "outputs": [],
   "source": [
    "cases = int(input())\n",
    "\n",
    "for case_number in range(cases):\n",
    "    N = int(input())\n",
    "    \n",
    "    true_set ={'1','2','3','4','5','6','7','8','9','0'}\n",
    "    answer_set = set()\n",
    "    count = 0\n",
    "    next_num = N\n",
    "\n",
    "    while answer_set != true_set:\n",
    "        count += 1\n",
    "        next_num = N*(count)\n",
    "        str_N = str(next_num)\n",
    "        for num in str_N:\n",
    "            answer_set.add(num)\n",
    "\n",
    "\n",
    "    print(f\"#{case_number + 1} {next_num}\")"
   ]
  }
 ],
 "metadata": {
  "kernelspec": {
   "display_name": "Python 3",
   "language": "python",
   "name": "python3"
  },
  "language_info": {
   "codemirror_mode": {
    "name": "ipython",
    "version": 3
   },
   "file_extension": ".py",
   "mimetype": "text/x-python",
   "name": "python",
   "nbconvert_exporter": "python",
   "pygments_lexer": "ipython3",
   "version": "3.7.3"
  }
 },
 "nbformat": 4,
 "nbformat_minor": 2
}
