{
 "cells": [
  {
   "cell_type": "markdown",
   "metadata": {},
   "source": [
    "패턴에서 반복되는 부분을 마디라고 부른다. 문자열을 입력 받아 마디의 길이를 출력하는 프로그램을 작성하라.\n",
    "\n",
    "\n",
    "#### [제약 사항]\n",
    "\n",
    "각 문자열의 길이는 30이다. 마디의 최대 길이는 10이다.\n",
    "\n",
    "\n",
    "#### [입력]\n",
    "\n",
    "가장 첫 줄에는 테스트 케이스의 개수 T가 주어지고, 그 아래로 각 테스트 케이스가 주어진다.\n",
    "\n",
    "각 테스트 케이스의 첫 번째 줄에는 길이가 30인 문자열이 주어진다.\n",
    "\n",
    "```\n",
    "3       \n",
    "KOREAKOREAKOREAKOREAKOREAKOREA\n",
    "SAMSUNGSAMSUNGSAMSUNGSAMSUNGSA\n",
    "GALAXYGALAXYGALAXYGALAXYGALAXY\n",
    "```\n",
    "\n",
    "\n",
    "#### [출력]\n",
    "\n",
    "출력의 각 줄은 '#t'로 시작하고, 공백을 한 칸 둔 다음 정답을 출력한다.\n",
    "\n",
    "(t는 테스트 케이스의 번호를 의미하며 1부터 시작한다.)\n",
    "\n",
    "```\n",
    "#1 5\n",
    "#2 7\n",
    "#3 6\n",
    "```"
   ]
  },
  {
   "cell_type": "code",
   "execution_count": 28,
   "metadata": {},
   "outputs": [
    {
     "name": "stdout",
     "output_type": "stream",
     "text": [
      "S\n",
      "마디 => SAM com_word =>S\n",
      "SAMUNGAMUNGAMUNGAMUNGA\n"
     ]
    }
   ],
   "source": [
    "# 실험\n",
    "case = \"SAMSUNGSAMSUNGSAMSUNGSAMSUNGSA\"\n",
    "\n",
    "madi = \"\"\n",
    "\n",
    "for idx, char in enumerate(case):\n",
    "    \n",
    "    if len(madi) == 0:\n",
    "        madi+=char\n",
    "        pass\n",
    "    else :\n",
    "         # 첫글자랑 이제 오는 글자랑 같을때 조건 검사\n",
    "        if madi[0] == char:\n",
    "            # 마디의 길이\n",
    "            madi_len = len(madi)\n",
    "            \n",
    "            compare_word = \"\"\n",
    "            for compare_idx in range(idx, idx+madi_len):        \n",
    "                \n",
    "                if madi[compare_idx - madi_len] == case[compare_idx]:\n",
    "                    compare_word+= case[compare_idx]\n",
    "                    print(compare_word)\n",
    "                    print(f\"마디 => {madi} com_word =>{compare_word}\")\n",
    "                    if madi == compare_word:\n",
    "                        break\n",
    "                    else:\n",
    "                        continue\n",
    "                else:\n",
    "                    break\n",
    "        else:\n",
    "            madi+=char\n",
    "print(madi)"
   ]
  },
  {
   "cell_type": "code",
   "execution_count": 42,
   "metadata": {},
   "outputs": [
    {
     "name": "stdout",
     "output_type": "stream",
     "text": [
      "GALAXY GALAXY\n",
      "GALAXY\n"
     ]
    }
   ],
   "source": [
    "case = \"GALAXYGALAXYGALAXYGALAXYGALAX\"\n",
    "\n",
    "madi = \"\"\n",
    "\n",
    "for idx, char in enumerate(case):\n",
    "    \n",
    "    if idx != len(case)-1:\n",
    "        if len(madi) == 0:\n",
    "            madi+= char\n",
    "        elif madi[0] != case[idx]:\n",
    "            madi+= char\n",
    "        else:\n",
    "            # madi와 길이가 같은 그 다음 단어를 구한다\n",
    "            compare_word = case[idx:idx+len(madi)]\n",
    "            print(madi,compare_word)\n",
    "            if madi == compare_word:\n",
    "                break\n",
    "            else:\n",
    "                madi+= char\n",
    "    else:\n",
    "        print(\"end\")\n",
    "print(madi)"
   ]
  },
  {
   "cell_type": "code",
   "execution_count": 50,
   "metadata": {},
   "outputs": [
    {
     "name": "stdout",
     "output_type": "stream",
     "text": [
      "1\n",
      "korekoe\n",
      "#1 6\n"
     ]
    }
   ],
   "source": [
    "case_number= int(input())\n",
    "\n",
    "for loop_number in range(case_number):\n",
    "\n",
    "    case = input()\n",
    "    madi = \"\"\n",
    "    \n",
    "    for idx, char in enumerate(case):\n",
    "\n",
    "        if idx != len(case)-1:\n",
    "            if len(madi) == 0:\n",
    "                madi+= char\n",
    "            elif madi[0] != case[idx]:\n",
    "                madi+= char\n",
    "            else:\n",
    "                compare_word = case[idx:idx+len(madi)]\n",
    "                if madi == compare_word:\n",
    "                    break\n",
    "                else:\n",
    "                    madi+= char\n",
    "        \n",
    "    print(f\"#{loop_number+1} {len(madi)}\")"
   ]
  }
 ],
 "metadata": {
  "kernelspec": {
   "display_name": "Python 3",
   "language": "python",
   "name": "python3"
  },
  "language_info": {
   "codemirror_mode": {
    "name": "ipython",
    "version": 3
   },
   "file_extension": ".py",
   "mimetype": "text/x-python",
   "name": "python",
   "nbconvert_exporter": "python",
   "pygments_lexer": "ipython3",
   "version": "3.7.3"
  }
 },
 "nbformat": 4,
 "nbformat_minor": 2
}
