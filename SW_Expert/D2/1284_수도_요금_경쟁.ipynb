{
 "cells": [
  {
   "cell_type": "markdown",
   "metadata": {},
   "source": [
    "삼성전자에 입사한 종민이는 회사 근처로 이사를 하게 되었다.\n",
    "\n",
    "그런데 집의 위치가 두 수도 회사 A, B 중간에 위치하기에 원하는 수도 회사를 선택할 수 있게 되었는데, 두 회사 중 더 적게 수도 요금을 부담해도 되는 회사를 고르려고 한다.\n",
    " \n",
    "종민이가 알아본 결과 두 회사의 수도 요금은 한 달 동안 사용한 수도의 양에 따라 다음과 같이 정해진다.\n",
    " \n",
    "A사 : 1리터당 P원의 돈을 내야 한다.\n",
    "\n",
    "B사 : 기본 요금이 Q원이고, 월간 사용량이 R리터 이하인 경우 요금은 기본 요금만 청구된다. 하지만 R 리터보다 많은 양을 사용한 경우 초과량에 대해 1리터당 S원의 요금을 더 내야 한다.\n",
    "\n",
    "종민이의 집에서 한 달간 사용하는 수도의 양이 W리터라고 할 때, 요금이 더 저렴한 회사를 골라 그 요금을 출력하는 프로그램을 작성하라.\n",
    "\n",
    "#### [입력]\n",
    "\n",
    "첫 번째 줄에 테스트 케이스의 수 T가 주어진다.\n",
    "\n",
    "각 테스트 케이스마다 첫 번째 줄에 위 본문에서 설명한 대로 P, Q, R, S, W(1 ≤ P, Q, R, S, W ≤ 10000, 자연수)가 순서대로 공백 하나로 구분되어 주어진다.\n",
    "\n",
    "```\n",
    "2\n",
    "9 100 20 3 10\n",
    "8 300 100 10 250\n",
    "```\n",
    "\n",
    "#### [출력]\n",
    "\n",
    "각 테스트 케이스마다 ‘#x’(x는 테스트케이스 번호를 의미하며 1부터 시작한다)를 출력하고, 종민이가 내야 하는 수도 요금을 출력한다.\n",
    "\n",
    "```\n",
    "#1 90\n",
    "#2 1800\n",
    "```"
   ]
  },
  {
   "cell_type": "code",
   "execution_count": 4,
   "metadata": {},
   "outputs": [
    {
     "name": "stdout",
     "output_type": "stream",
     "text": [
      "90\n"
     ]
    }
   ],
   "source": [
    "P,Q,R,S,W = (9,100,20,3,10)\n",
    "\n",
    "company_A = W * P\n",
    "if W <= R:\n",
    "    company_B = Q\n",
    "else:\n",
    "    company_B = Q + (W-R)*S\n",
    "\n",
    "print(min(company_A,company_B))"
   ]
  },
  {
   "cell_type": "code",
   "execution_count": 10,
   "metadata": {},
   "outputs": [
    {
     "name": "stdout",
     "output_type": "stream",
     "text": [
      "1\n",
      "9 100 20 3 10\n",
      "#1 90\n"
     ]
    }
   ],
   "source": [
    "cases = int(input())\n",
    "for case_count in range(cases):\n",
    "    P,Q,R,S,W = tuple(map(int,input().split()))\n",
    "    \n",
    "    com_A = W*P\n",
    "    com_B = Q if W <= R else Q + (W-R)*S\n",
    "    \n",
    "    print(f\"#{case_count+1} {min(com_A,com_B)}\")"
   ]
  }
 ],
 "metadata": {
  "kernelspec": {
   "display_name": "Python 3",
   "language": "python",
   "name": "python3"
  },
  "language_info": {
   "codemirror_mode": {
    "name": "ipython",
    "version": 3
   },
   "file_extension": ".py",
   "mimetype": "text/x-python",
   "name": "python",
   "nbconvert_exporter": "python",
   "pygments_lexer": "ipython3",
   "version": "3.7.3"
  }
 },
 "nbformat": 4,
 "nbformat_minor": 2
}
