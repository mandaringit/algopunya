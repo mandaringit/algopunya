{
 "cells": [
  {
   "cell_type": "markdown",
   "metadata": {},
   "source": [
    "10개의 수를 입력 받아, 최대 수와 최소 수를 제외한 나머지의 평균값을 출력하는 프로그램을 작성하라.\n",
    "\n",
    "(소수점 첫째 자리에서 반올림한 정수를 출력한다.)\n",
    "\n",
    "\n",
    "#### [제약 사항]\n",
    "\n",
    "각 수는 0 이상 10000 이하의 정수이다.\n",
    "\n",
    "__중복되는 수는 없다고 가정하는듯 하다__\n",
    "\n",
    "\n",
    "#### [입력]\n",
    "\n",
    "가장 첫 줄에는 테스트 케이스의 개수 T가 주어지고, 그 아래로 각 테스트 케이스가 주어진다.\n",
    "\n",
    "각 테스트 케이스의 첫 번째 줄에는 10개의 수가 주어진다.\n",
    "\n",
    "```\n",
    "3      \n",
    "3 17 1 39 8 41 2 32 99 2 \n",
    "22 8 5 123 7 2 63 7 3 46 \n",
    "6 63 2 3 58 76 21 33 8 1  \n",
    "```\n",
    "\n",
    "\n",
    "#### [출력]\n",
    "\n",
    "출력의 각 줄은 '#t'로 시작하고, 공백을 한 칸 둔 다음 정답을 출력한다.\n",
    "\n",
    "(t는 테스트 케이스의 번호를 의미하며 1부터 시작한다.)\n",
    "\n",
    "```\n",
    "#1 18\n",
    "#2 20\n",
    "#3 24\n",
    "```"
   ]
  },
  {
   "cell_type": "code",
   "execution_count": 6,
   "metadata": {},
   "outputs": [
    {
     "name": "stdout",
     "output_type": "stream",
     "text": [
      "18\n"
     ]
    }
   ],
   "source": [
    "input_words = \"3 17 1 39 8 41 2 32 99 2\"\n",
    "case = [int(num) for num in input_words.split()]\n",
    "\n",
    "case.remove(max(case))\n",
    "case.remove(min(case))\n",
    "\n",
    "avg = sum(case)/len(case)\n",
    "print(round(avg))"
   ]
  },
  {
   "cell_type": "code",
   "execution_count": 8,
   "metadata": {},
   "outputs": [
    {
     "name": "stdout",
     "output_type": "stream",
     "text": [
      "3\n",
      "3 17 1 39 8 41 2 32 99 2\n",
      "#1 18\n",
      "22 8 5 123 7 2 63 7 3 46\n",
      "#2 20\n",
      "6 63 2 3 58 76 21 33 8 1\n",
      "#3 24\n"
     ]
    }
   ],
   "source": [
    "test_case = int(input())\n",
    "\n",
    "for case_number in range(test_case):\n",
    "    \n",
    "    case = [int(num) for num in input().split()]\n",
    "    \n",
    "    case.remove(max(case))\n",
    "    case.remove(min(case))\n",
    "\n",
    "    avg = sum(case)/len(case)\n",
    "\n",
    "    print(f\"#{case_number + 1} {round(avg)}\")"
   ]
  }
 ],
 "metadata": {
  "kernelspec": {
   "display_name": "Python 3",
   "language": "python",
   "name": "python3"
  },
  "language_info": {
   "codemirror_mode": {
    "name": "ipython",
    "version": 3
   },
   "file_extension": ".py",
   "mimetype": "text/x-python",
   "name": "python",
   "nbconvert_exporter": "python",
   "pygments_lexer": "ipython3",
   "version": "3.7.3"
  }
 },
 "nbformat": 4,
 "nbformat_minor": 2
}
