{
 "cells": [
  {
   "cell_type": "markdown",
   "metadata": {},
   "source": [
    "크기가 N인 파스칼의 삼각형을 만들어야 한다.\n",
    "\n",
    "파스칼의 삼각형이란 아래와 같은 규칙을 따른다.\n",
    "\n",
    "1. 첫 번째 줄은 항상 숫자 1이다.\n",
    "\n",
    "2. 두 번째 줄부터 각 숫자들은 자신의 왼쪽과 오른쪽 위의 숫자의 합으로 구성된다.\n",
    "\n",
    "N이 4일 경우,\n",
    " \n",
    "![파스칼의삼각형](img/2005_1.PNG)\n",
    "\n",
    "\n",
    "N을 입력 받아 크기 N인 파스칼의 삼각형을 출력하는 프로그램을 작성하시오.\n",
    "\n",
    "\n",
    "#### [제약 사항]\n",
    "\n",
    "파스칼의 삼각형의 크기 N은 1 이상 10 이하의 정수이다. (1 ≤ N ≤ 10)\n",
    "\n",
    "\n",
    "#### [입력]\n",
    "\n",
    "가장 첫 줄에는 테스트 케이스의 개수 T가 주어지고, 그 아래로 각 테스트 케이스가 주어진다.\n",
    "\n",
    "각 테스트 케이스에는 N이 주어진다.\n",
    "\n",
    "```\n",
    "1\n",
    "4\n",
    "```\n",
    "\n",
    "\n",
    "#### [출력]\n",
    "\n",
    "각 줄은 '#t'로 시작하고, 다음 줄부터 파스칼의 삼각형을 출력한다.\n",
    "\n",
    "삼각형 각 줄의 처음 숫자가 나오기 전까지의 빈 칸은 생략하고 숫자들 사이에는 한 칸의 빈칸을 출력한다.\n",
    "\n",
    "(t는 테스트 케이스의 번호를 의미하며 1부터 시작한다.)\n",
    "\n",
    "```\n",
    "#1\n",
    "1\n",
    "1 1\n",
    "1 2 1\n",
    "1 3 3 1\n",
    "```"
   ]
  },
  {
   "cell_type": "code",
   "execution_count": 48,
   "metadata": {},
   "outputs": [
    {
     "name": "stdout",
     "output_type": "stream",
     "text": [
      "[1, 3, 3, 1]\n"
     ]
    }
   ],
   "source": [
    "a = [1,2,1]\n",
    "\n",
    "a[1:3] = [3,3]\n",
    "a += [1]\n",
    "print(a)\n"
   ]
  },
  {
   "cell_type": "code",
   "execution_count": 81,
   "metadata": {},
   "outputs": [
    {
     "name": "stdout",
     "output_type": "stream",
     "text": [
      "#1\n",
      "1\n",
      "1 1\n",
      "1 2 1\n",
      "1 3 3 1\n"
     ]
    }
   ],
   "source": [
    "case_number = 1\n",
    "\n",
    "for loop_number in range(case_number):\n",
    "    N = 4\n",
    "    \n",
    "    start_line = []\n",
    "    \n",
    "    print(f\"#{loop_number + 1}\")\n",
    "    for i in range(N):\n",
    "        \n",
    "        if i >= 2 :\n",
    "            #새로 넣을 리스트 만들고\n",
    "            next_line =[]\n",
    "            \n",
    "            for idx,num in enumerate(start_line):\n",
    "                # 마지막 인덱스가 아니면\n",
    "                if idx != len(start_line)-1:\n",
    "                    # 옆 인덱스 숫자랑 더해서 새로 넣을 라인에 추가\n",
    "                    add_num = num + start_line[idx+1]\n",
    "                    next_line.append(add_num)\n",
    "            \n",
    "            # N번째 라인의 중간부분만 변경\n",
    "            start_line[1:i] = next_line\n",
    "        \n",
    "        # 공통, 마지막에 1을 추가\n",
    "        start_line += [1]\n",
    "        print(f\"{start_line}\".replace(\"[\",\"\").replace(\"]\",\"\").replace(\",\",\"\"))\n",
    "            \n"
   ]
  },
  {
   "cell_type": "code",
   "execution_count": 83,
   "metadata": {},
   "outputs": [
    {
     "name": "stdout",
     "output_type": "stream",
     "text": [
      "2\n",
      "4\n",
      "#1\n",
      "1\n",
      "1 1\n",
      "1 2 1\n",
      "1 3 3 1\n",
      "5\n",
      "#2\n",
      "1\n",
      "1 1\n",
      "1 2 1\n",
      "1 3 3 1\n",
      "1 4 6 4 1\n"
     ]
    }
   ],
   "source": [
    "case_number = int(input())\n",
    "\n",
    "for loop_number in range(case_number):\n",
    "    N = int(input())\n",
    "    \n",
    "    start_line = []\n",
    "    \n",
    "    print(f\"#{loop_number + 1}\")\n",
    "    for i in range(N):\n",
    "        \n",
    "        if i >= 2 :\n",
    "            #새로 넣을 리스트 만들고\n",
    "            next_line =[]\n",
    "            \n",
    "            for idx,num in enumerate(start_line):\n",
    "                # 마지막 인덱스가 아니면\n",
    "                if idx != len(start_line)-1:\n",
    "                    # 옆 인덱스 숫자랑 더해서 새로 넣을 라인에 추가\n",
    "                    add_num = num + start_line[idx+1]\n",
    "                    next_line.append(add_num)\n",
    "            \n",
    "            # N번째 라인의 중간부분만 변경\n",
    "            start_line[1:i] = next_line\n",
    "        \n",
    "        # 공통, 마지막에 1을 추가\n",
    "        start_line += [1]\n",
    "        print(f\"{start_line}\".replace(\"[\",\"\").replace(\"]\",\"\").replace(\",\",\"\"))\n",
    "            \n"
   ]
  }
 ],
 "metadata": {
  "kernelspec": {
   "display_name": "Python 3",
   "language": "python",
   "name": "python3"
  },
  "language_info": {
   "codemirror_mode": {
    "name": "ipython",
    "version": 3
   },
   "file_extension": ".py",
   "mimetype": "text/x-python",
   "name": "python",
   "nbconvert_exporter": "python",
   "pygments_lexer": "ipython3",
   "version": "3.7.3"
  }
 },
 "nbformat": 4,
 "nbformat_minor": 2
}
