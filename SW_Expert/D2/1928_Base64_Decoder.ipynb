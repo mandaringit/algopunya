{
 "cells": [
  {
   "cell_type": "markdown",
   "metadata": {},
   "source": [
    "다음과 같이 Encoding 을 한다.\n",
    "\n",
    "1. 우선 24비트 버퍼에 위쪽(MSB)부터 한 byte씩 3 byte의 문자를 집어넣는다.\n",
    "\n",
    "2. 버퍼의 위쪽부터 6비트씩 잘라 그 값을 읽고, 각각의 값을 아래 [표-1] 의 문자로 Encoding 한다.\n",
    "\n",
    "![표1](img/1928_1.PNG)\n",
    "\n",
    "입력으로 Base64 Encoding 된 String 이 주어졌을 때, 해당 String 을 Decoding 하여, 원문을 출력하는 프로그램을 작성하시오.\n",
    "\n",
    "#### [제약사항]\n",
    "문자열의 길이는 항상 4의 배수로 주어진다.\n",
    "그리고 문자열의 길이는 100000을 넘지 않는다.\n",
    "\n",
    "#### [입력]\n",
    "입력은 첫 줄에 총 테스트 케이스의 개수 T가 온다.\n",
    "다음 줄부터 각 테스트 케이스가 주어진다.\n",
    "테스트 케이스는 Encoding 된 상태로 주어지는 문자열이다.\n",
    "\n",
    "```\n",
    "10\n",
    "TGlmZSBpdHNlbGYgaXMgYSBxdW90YXRpb24u\n",
    "U3VzcGljaW9uIGZvbGxvd3MgY2xvc2Ugb24gbWlzdHJ1c3Qu\n",
    "VG8gZG91YnQgaXMgc2FmZXIgdGhhbiB0byBiZSBzZWN1cmUu\n",
    "T25seSB0aGUganVzdCBtYW4gZW5qb3lzIHBlYWNlIG9mIG1pbmQu\n",
    "QSBmdWxsIGJlbGx5IGlzIHRoZSBtb3RoZXIgb2YgYWxsIGV2aWwu\n",
    "…\n",
    "```\n",
    "\n",
    "#### [출력]\n",
    "테스트 케이스 t에 대한 결과는 “#t”을 찍고, 한 칸 띄고, 정답을 출력한다.\n",
    "(t는 테스트 케이스의 번호를 의미하며 1부터 시작한다.)\n",
    "\n",
    "```\n",
    "#1 Life itself is a quotation.\n",
    "#2 Suspicion follows close on mistrust.\n",
    "#3 To doubt is safer than to be secure.\n",
    "#4 Only the just man enjoys peace of mind.\n",
    "#5 A full belly is the mother of all evil.\n",
    "...\n",
    "```"
   ]
  },
  {
   "cell_type": "markdown",
   "metadata": {},
   "source": [
    "---\n",
    "# Base64 인코딩의 과정\n",
    "\n",
    "1. 인코딩할 문장 => \"Life itself is a quotation.\"\n",
    "2. 단어 세개를 고른다. 예를들어 Lif / e i / tse / ... 이런식으로\n",
    "3. Lif 에서 각 단어를 8비트의 2진법으로 만든다. \n",
    "\n",
    "## abc를 예로 들어보자.\n",
    "1. a의 경우 , 8비트 2진법 01100001이 된다.\n",
    "2. 이런식으로 abc를 모두 바꿔 이으면 011000010110001001100011이 된다.\n",
    "3. 이렇게 나온 수들을 다시 6비트씩 나눈다.\n",
    "4. 011000/010110/001001/100011 이렇게 된다.\n",
    "5. 각 수를 6비트 캐릭터 언어로 (표에 나온) 다시표현하면,\n",
    "6. 011000 => 24(Y) , 010110 => 22(W) ,001001 => 9(J) , 100011 => 35(j)\n",
    "7. 즉, abc는 YWJj로 변한다.\n",
    "---"
   ]
  },
  {
   "cell_type": "markdown",
   "metadata": {},
   "source": [
    "## 모듈을 이용해본다"
   ]
  },
  {
   "cell_type": "code",
   "execution_count": 49,
   "metadata": {},
   "outputs": [
    {
     "name": "stdout",
     "output_type": "stream",
     "text": [
      "Life itself is a quotation.\n"
     ]
    }
   ],
   "source": [
    "import base64\n",
    "encoded_word = \"TGlmZSBpdHNlbGYgaXMgYSBxdW90YXRpb24u\"\n",
    "\n",
    "print(base64.b64decode(encoded_word).decode('utf-8'))"
   ]
  },
  {
   "cell_type": "markdown",
   "metadata": {},
   "source": [
    "## 직접 짜본다"
   ]
  },
  {
   "cell_type": "code",
   "execution_count": 10,
   "metadata": {},
   "outputs": [
    {
     "name": "stdout",
     "output_type": "stream",
     "text": [
      "{'A': 0, 'B': 1, 'C': 2, 'D': 3, 'E': 4, 'F': 5, 'G': 6, 'H': 7, 'I': 8, 'J': 9, 'K': 10, 'L': 11, 'M': 12, 'N': 13, 'O': 14, 'P': 15, 'Q': 16, 'R': 17, 'S': 18, 'T': 19, 'U': 20, 'V': 21, 'W': 22, 'X': 23, 'Y': 24, 'Z': 25, 'a': 26, 'b': 27, 'c': 28, 'd': 29, 'e': 30, 'f': 31, 'g': 32, 'h': 33, 'i': 34, 'j': 35, 'k': 36, 'l': 37, 'm': 38, 'n': 39, 'o': 40, 'p': 41, 'q': 42, 'r': 43, 's': 44, 'y': 50, 'u': 46, 'v': 47, 'w': 48, 'x': 49, 'z': 51, '0': 52, '1': 53, '2': 54, '3': 55, '4': 56, '5': 57, '6': 58, '7': 59, '8': 60, '9': 61, '+': 62, '/': 63}\n"
     ]
    }
   ],
   "source": [
    "base64_table={}\n",
    "table_list = \"ABCDEFGHIJKLMNOPQRSTUVWXYZabcdefghijklmnopqrstuvwxyz0123456789+/\"\n",
    "value = 0\n",
    "for key in table_list:\n",
    "    base64_table[key] = value\n",
    "    value +=1\n",
    "print(base64_table)"
   ]
  },
  {
   "cell_type": "code",
   "execution_count": 8,
   "metadata": {},
   "outputs": [
    {
     "name": "stdout",
     "output_type": "stream",
     "text": [
      "['TGlm', 'ZSBp', 'dHNl', 'bGYg', 'aXMg', 'YSBx', 'dW90', 'YXRp', 'b24u']\n"
     ]
    }
   ],
   "source": [
    "# Decoding을 하려면\n",
    "\n",
    "encoded_word = \"TGlmZSBpdHNlbGYgaXMgYSBxdW90YXRpb24u\"\n",
    "\n",
    "# 주어진 단어를 4개씩 나눈다\n",
    "\n",
    "encoded_list = []\n",
    "\n",
    "bit_6_char = \"\"\n",
    "cnt = 0\n",
    "for char in encoded_word:\n",
    "    bit_6_char +=char\n",
    "    if cnt == 3:\n",
    "        encoded_list.append(bit_6_char)\n",
    "        bit_6_char =\"\"\n",
    "        cnt = 0\n",
    "    else:\n",
    "        cnt +=1\n",
    "print(encoded_list)"
   ]
  },
  {
   "cell_type": "code",
   "execution_count": 16,
   "metadata": {},
   "outputs": [
    {
     "name": "stdout",
     "output_type": "stream",
     "text": [
      "010011000110100101100110\n"
     ]
    }
   ],
   "source": [
    "# 나눠진 각 단어를 base64 테이블을 보고 숫자로 바꾼다\n",
    "# 바꾼 숫자를 6비트 2진수로 바꾸고 모두 연결한다\n",
    "\n",
    "word =\"TGlm\"\n",
    "word_to_6b = \"\"\n",
    "for char in word:\n",
    "    number = base64_table[char]\n",
    "    binary_number = f\"{number:b}\"\n",
    "    bit_6_binary_number = \"\"\n",
    "    if len(binary_number) != 6:\n",
    "        bit_6_binary_number = (6-len(binary_number))*\"0\" + binary_number\n",
    "        word_to_6b += bit_6_binary_number\n",
    "    else:\n",
    "        word_to_6b += binary_number\n",
    "print(word_to_6b)"
   ]
  },
  {
   "cell_type": "code",
   "execution_count": 21,
   "metadata": {},
   "outputs": [
    {
     "name": "stdout",
     "output_type": "stream",
     "text": [
      "['01001100', '01101001', '01100110']\n"
     ]
    }
   ],
   "source": [
    "word_to_6b = \"010011000110100101100110\"\n",
    "\n",
    "# 모두 바꾼 숫자를 8개씩 나눈다\n",
    "\n",
    "chars_before_decode = []\n",
    "\n",
    "cnt = 0\n",
    "bit_8_char = \"\"\n",
    "for char in word_to_6b:\n",
    "    bit_8_char +=char\n",
    "    if cnt == 7:\n",
    "        chars_before_decode.append(bit_8_char)\n",
    "        bit_8_char =\"\"\n",
    "        cnt = 0\n",
    "    else:\n",
    "        cnt +=1\n",
    "print(chars_before_decode)"
   ]
  },
  {
   "cell_type": "code",
   "execution_count": 27,
   "metadata": {},
   "outputs": [
    {
     "name": "stdout",
     "output_type": "stream",
     "text": [
      "Lif\n"
     ]
    }
   ],
   "source": [
    "chars_before_decode = ['01001100', '01101001', '01100110']\n",
    "\n",
    "#각 이진법을 숫자로 바꾼다\n",
    "total_word = \"\"\n",
    "for binary in chars_before_decode:\n",
    "    word = int(binary,2)\n",
    "    total_word += chr(word)\n",
    "\n",
    "print(total_word)"
   ]
  },
  {
   "cell_type": "markdown",
   "metadata": {},
   "source": [
    "--------------\n",
    "## 하나로 이어보자"
   ]
  },
  {
   "cell_type": "code",
   "execution_count": 45,
   "metadata": {},
   "outputs": [
    {
     "name": "stdout",
     "output_type": "stream",
     "text": [
      "base64테이블 => {'A': 0, 'B': 1, 'C': 2, 'D': 3, 'E': 4, 'F': 5, 'G': 6, 'H': 7, 'I': 8, 'J': 9, 'K': 10, 'L': 11, 'M': 12, 'N': 13, 'O': 14, 'P': 15, 'Q': 16, 'R': 17, 'S': 18, 'T': 19, 'U': 20, 'V': 21, 'W': 22, 'X': 23, 'Y': 24, 'Z': 25, 'a': 26, 'b': 27, 'c': 28, 'd': 29, 'e': 30, 'f': 31, 'g': 32, 'h': 33, 'i': 34, 'j': 35, 'k': 36, 'l': 37, 'm': 38, 'n': 39, 'o': 40, 'p': 41, 'q': 42, 'r': 43, 's': 44, 't': 45, 'u': 46, 'v': 47, 'w': 48, 'x': 49, 'y': 50, 'z': 51, '0': 52, '1': 53, '2': 54, '3': 55, '4': 56, '5': 57, '6': 58, '7': 59, '8': 60, '9': 61, '+': 62, '/': 63}\n",
      "\n",
      "bit6characters => ['T25s', 'eSB0', 'aGUg', 'anVz', 'dCBt', 'YW4g', 'ZW5q', 'b3lz', 'IHBl', 'YWNl', 'IG9m', 'IG1p', 'bmQu']\n",
      "\n",
      "T25s => 010011110110111001101100\n",
      "=> ['01001111', '01101110', '01101100']\n",
      "=> Onl \n",
      "\n",
      "eSB0 => 011110010010000001110100\n",
      "=> ['01111001', '00100000', '01110100']\n",
      "=> y t \n",
      "\n",
      "aGUg => 011010000110010100100000\n",
      "=> ['01101000', '01100101', '00100000']\n",
      "=> he  \n",
      "\n",
      "anVz => 011010100111010101110011\n",
      "=> ['01101010', '01110101', '01110011']\n",
      "=> jus \n",
      "\n",
      "dCBt => 011101000010000001101101\n",
      "=> ['01110100', '00100000', '01101101']\n",
      "=> t m \n",
      "\n",
      "YW4g => 011000010110111000100000\n",
      "=> ['01100001', '01101110', '00100000']\n",
      "=> an  \n",
      "\n",
      "ZW5q => 011001010110111001101010\n",
      "=> ['01100101', '01101110', '01101010']\n",
      "=> enj \n",
      "\n",
      "b3lz => 011011110111100101110011\n",
      "=> ['01101111', '01111001', '01110011']\n",
      "=> oys \n",
      "\n",
      "IHBl => 001000000111000001100101\n",
      "=> ['00100000', '01110000', '01100101']\n",
      "=>  pe \n",
      "\n",
      "YWNl => 011000010110001101100101\n",
      "=> ['01100001', '01100011', '01100101']\n",
      "=> ace \n",
      "\n",
      "IG9m => 001000000110111101100110\n",
      "=> ['00100000', '01101111', '01100110']\n",
      "=>  of \n",
      "\n",
      "IG1p => 001000000110110101101001\n",
      "=> ['00100000', '01101101', '01101001']\n",
      "=>  mi \n",
      "\n",
      "bmQu => 011011100110010000101110\n",
      "=> ['01101110', '01100100', '00101110']\n",
      "=> nd. \n",
      "\n",
      "해독된 문장 => Only the just man enjoys peace of mind.\n"
     ]
    }
   ],
   "source": [
    "# Base64 테이블 생성\n",
    "base64_table={}\n",
    "table_list = \"ABCDEFGHIJKLMNOPQRSTUVWXYZabcdefghijklmnopqrstuvwxyz0123456789+/\"\n",
    "value = 0\n",
    "for key in table_list:\n",
    "    base64_table[key] = value\n",
    "    value +=1\n",
    "\n",
    "print(f\"base64테이블 => {base64_table}\\n\")\n",
    "# 한문장을 완벽하게 바꿔보자\n",
    "encoded_word = \"T25seSB0aGUganVzdCBtYW4gZW5qb3lzIHBlYWNlIG9mIG1pbmQu\"\n",
    "# 나중에 해독될 문장\n",
    "decoded_word = \"\"\n",
    "\n",
    "# 4개씩 나누고, 리스트에 저장\n",
    "bit6characters = []\n",
    "\n",
    "bit6char = \"\"\n",
    "char_count = 0\n",
    "\n",
    "for bit in encoded_word:\n",
    "    bit6char += bit\n",
    "    if char_count == 3:\n",
    "        bit6characters.append(bit6char)\n",
    "        bit6char =\"\"\n",
    "        char_count = 0\n",
    "    else:\n",
    "        char_count +=1\n",
    "\n",
    "print(f\"bit6characters => {bit6characters}\\n\")\n",
    "\n",
    "# 각  6비트단어들마다 루프\n",
    "\n",
    "for bit6word in bit6characters:\n",
    "    \n",
    "    # 6비트 2진수 만들어 합치기\n",
    "    binary6bit = \"\"\n",
    "    \n",
    "    for char in bit6word:\n",
    "        \n",
    "        number = base64_table[char]\n",
    "        binaryNbit = f\"{number:b}\"\n",
    "        before6bitbinary = \"\"\n",
    "        if len(binaryNbit) != 6:\n",
    "            before6bitbinary = (6-len(binaryNbit))*\"0\" + binaryNbit\n",
    "            binary6bit += before6bitbinary\n",
    "        else:\n",
    "            binary6bit += binaryNbit\n",
    "    print(f\"{bit6word} => {binary6bit}\")\n",
    "    \n",
    "    # 합친 2진수 8개씩 나누기\n",
    "    bit8_before_decode = []\n",
    "\n",
    "    cnt = 0\n",
    "    bit8binary = \"\"\n",
    "    for char in binary6bit:\n",
    "        bit8binary +=char\n",
    "        if cnt == 7:\n",
    "            bit8_before_decode.append(bit8binary)\n",
    "            bit8binary =\"\"\n",
    "            cnt = 0\n",
    "        else:\n",
    "            cnt +=1\n",
    "    print(f\"=> {bit8_before_decode}\")\n",
    "    \n",
    "    # 8개씩 나눈 이진수 바꾸기\n",
    "    total_word = \"\"\n",
    "    for binary in bit8_before_decode:\n",
    "        word = int(binary,2)\n",
    "        total_word += chr(word)\n",
    "    decoded_word += total_word\n",
    "    print(f\"=> {total_word} \\n\")\n",
    "print(f\"해독된 문장 => {decoded_word}\")"
   ]
  },
  {
   "cell_type": "code",
   "execution_count": null,
   "metadata": {},
   "outputs": [],
   "source": [
    "base64_table={}\n",
    "table_list = \"ABCDEFGHIJKLMNOPQRSTUVWXYZabcdefghijklmnopqrstuvwxyz0123456789+/\"\n",
    "value = 0\n",
    "for key in table_list:\n",
    "    base64_table[key] = value\n",
    "    value +=1\n",
    "\n",
    "case = int(input())\n",
    "\n",
    "for case_count in range(case):\n",
    "    encoded_word = input()\n",
    "    decoded_word = \"\"\n",
    "\n",
    "    bit6characters = []\n",
    "\n",
    "    bit6char = \"\"\n",
    "    char_count = 0\n",
    "\n",
    "    for bit in encoded_word:\n",
    "        bit6char += bit\n",
    "        if char_count == 3:\n",
    "            bit6characters.append(bit6char)\n",
    "            bit6char =\"\"\n",
    "            char_count = 0\n",
    "        else:\n",
    "            char_count +=1\n",
    "\n",
    "    for bit6word in bit6characters:\n",
    "\n",
    "        binary6bit = \"\"\n",
    "\n",
    "        for char in bit6word:\n",
    "\n",
    "            number = base64_table[char]\n",
    "            binaryNbit = f\"{number:b}\"\n",
    "            before6bitbinary = \"\"\n",
    "            if len(binaryNbit) != 6:\n",
    "                before6bitbinary = (6-len(binaryNbit))*\"0\" + binaryNbit\n",
    "                binary6bit += before6bitbinary\n",
    "            else:\n",
    "                binary6bit += binaryNbit\n",
    "\n",
    "        bit8_before_decode = []\n",
    "\n",
    "        cnt = 0\n",
    "        bit8binary = \"\"\n",
    "        for char in binary6bit:\n",
    "            bit8binary +=char\n",
    "            if cnt == 7:\n",
    "                bit8_before_decode.append(bit8binary)\n",
    "                bit8binary =\"\"\n",
    "                cnt = 0\n",
    "            else:\n",
    "                cnt +=1\n",
    "\n",
    "        total_word = \"\"\n",
    "        \n",
    "        for binary in bit8_before_decode:\n",
    "            word = int(binary,2)\n",
    "            total_word += chr(word)\n",
    "        decoded_word += total_word\n",
    "        \n",
    "    print(f\"#{case_count+1} {decoded_word}\")"
   ]
  }
 ],
 "metadata": {
  "kernelspec": {
   "display_name": "Python 3",
   "language": "python",
   "name": "python3"
  },
  "language_info": {
   "codemirror_mode": {
    "name": "ipython",
    "version": 3
   },
   "file_extension": ".py",
   "mimetype": "text/x-python",
   "name": "python",
   "nbconvert_exporter": "python",
   "pygments_lexer": "ipython3",
   "version": "3.7.3"
  }
 },
 "nbformat": 4,
 "nbformat_minor": 2
}
