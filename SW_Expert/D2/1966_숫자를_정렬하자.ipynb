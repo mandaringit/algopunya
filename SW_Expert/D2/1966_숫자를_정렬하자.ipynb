{
 "cells": [
  {
   "cell_type": "markdown",
   "metadata": {},
   "source": [
    "주어진 N 길이의 숫자열을 오름차순으로 정렬하여 출력하라.\n",
    "\n",
    "#### [제약 사항]\n",
    "\n",
    "N 은 5 이상 50 이하이다.\n",
    "\n",
    "\n",
    "#### [입력]\n",
    "\n",
    "가장 첫 줄에는 테스트 케이스의 개수 T가 주어지고, 그 아래로 각 테스트 케이스가 주어진다.\n",
    "\n",
    "각 테스트 케이스의 첫 번째 줄에 N 이 주어지고, 다음 줄에 N 개의 숫자가 주어진다.\n",
    "\n",
    "```\n",
    "10\n",
    "5\n",
    "1 4 7 8 0\n",
    "...\n",
    "```\n",
    "\n",
    "\n",
    "#### [출력]\n",
    "\n",
    "출력의 각 줄은 '#t'로 시작하고, 공백을 한 칸 둔 다음 정답을 출력한다.\n",
    "\n",
    "(t는 테스트 케이스의 번호를 의미하며 1부터 시작한다.)\n",
    "\n",
    "```\n",
    "#1 0 1 4 7 8\n",
    "...\n",
    "```"
   ]
  },
  {
   "cell_type": "code",
   "execution_count": 8,
   "metadata": {},
   "outputs": [
    {
     "name": "stdout",
     "output_type": "stream",
     "text": [
      "#1 0 1 4 7 8\n"
     ]
    }
   ],
   "source": [
    "case_length = 5\n",
    "case = \"1 4 7 8 0\"\n",
    "\n",
    "number_list = sorted([int(num) for num in case.split()])\n",
    "print(f\"#1 {' '.join(list(map(str,number_list)))}\")"
   ]
  },
  {
   "cell_type": "code",
   "execution_count": null,
   "metadata": {},
   "outputs": [],
   "source": [
    "test_case = int(input())\n",
    "\n",
    "for case_number in range(test_case):\n",
    "    case_length = int(input())\n",
    "    case = input()\n",
    "    \n",
    "    number_list = sorted([int(num) for num in case.split()])\n",
    "    print(f\"#{case_number+1} {' '.join(list(map(str,number_list)))}\")"
   ]
  }
 ],
 "metadata": {
  "kernelspec": {
   "display_name": "Python 3",
   "language": "python",
   "name": "python3"
  },
  "language_info": {
   "codemirror_mode": {
    "name": "ipython",
    "version": 3
   },
   "file_extension": ".py",
   "mimetype": "text/x-python",
   "name": "python",
   "nbconvert_exporter": "python",
   "pygments_lexer": "ipython3",
   "version": "3.7.3"
  }
 },
 "nbformat": 4,
 "nbformat_minor": 2
}
