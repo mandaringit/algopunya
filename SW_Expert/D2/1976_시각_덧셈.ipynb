{
 "cells": [
  {
   "cell_type": "markdown",
   "metadata": {},
   "source": [
    "시 분으로 이루어진 시각을 2개 입력 받아, 더한 값을 시 분으로 출력하는 프로그램을 작성하라.\n",
    "\n",
    "(시각은 12시간제로 표시한다. 즉, 시가 가질 수 있는 값은 1시부터 12시이다.)\n",
    "\n",
    "\n",
    "#### [제약 사항]\n",
    "\n",
    "시는 1 이상 12 이하의 정수이다. 분은 0 이상 59 이하의 정수이다.\n",
    "\n",
    "\n",
    "#### [입력]\n",
    "\n",
    "가장 첫 줄에는 테스트 케이스의 개수 T가 주어지고, 그 아래로 각 테스트 케이스가 주어진다.\n",
    "\n",
    "각 테스트 케이스의 첫 번째 줄에는 4개의 수가 주어진다.\n",
    "\n",
    "첫 번째 수가 시를 나타내고 두 번째 수가 분을 나타낸다. 그 다음 같은 형식으로 두 번째 시각이 주어진다.\n",
    "\n",
    "```\n",
    "3 \n",
    "3 17 1 39\n",
    "8 22 5 10\n",
    "6 53 2 12 \n",
    "```\n",
    "\n",
    "\n",
    "#### [출력]\n",
    "\n",
    "출력의 각 줄은 '#t'로 시작하고 공백을 한 칸 둔 다음, 시를 출력하고 공백을 한 칸 둔 다음 분을 출력한다.\n",
    "\n",
    "(t는 테스트 케이스의 번호를 의미하며 1부터 시작한다.)\n",
    "\n",
    "```\n",
    "#1 4 56\n",
    "#2 1 32\n",
    "#3 9 5\n",
    "```\n",
    "\n"
   ]
  },
  {
   "cell_type": "code",
   "execution_count": 12,
   "metadata": {},
   "outputs": [
    {
     "name": "stdout",
     "output_type": "stream",
     "text": [
      "<generator object <genexpr> at 0x0086C3B0>\n"
     ]
    }
   ],
   "source": [
    "time = \"12 59 12 59\"\n",
    "times = (int(num) for num in time.split())\n",
    "print(times)"
   ]
  },
  {
   "cell_type": "code",
   "execution_count": 13,
   "metadata": {},
   "outputs": [
    {
     "name": "stdout",
     "output_type": "stream",
     "text": [
      "12 59 12 59\n"
     ]
    }
   ],
   "source": [
    "h1,m1,h2,m2 = times\n",
    "print(h1,m1,h2,m2)"
   ]
  },
  {
   "cell_type": "code",
   "execution_count": 16,
   "metadata": {},
   "outputs": [
    {
     "name": "stdout",
     "output_type": "stream",
     "text": [
      "1 58\n"
     ]
    }
   ],
   "source": [
    "calc_h = 0\n",
    "calc_m = 0\n",
    "\n",
    "calc_m += (m1 + m2)\n",
    "\n",
    "if calc_m >=60:\n",
    "    calc_h += 1\n",
    "    calc_m -= 60\n",
    "\n",
    "calc_h += (h1 + h2)\n",
    "\n",
    "if calc_h >=24:\n",
    "    calc_h -= 24\n",
    "elif calc_h >=12 :\n",
    "    calc_h -= 12\n",
    "\n",
    "if calc_h == 0:\n",
    "    calc_h = 12\n",
    "\n",
    "print(calc_h,calc_m)"
   ]
  },
  {
   "cell_type": "code",
   "execution_count": null,
   "metadata": {},
   "outputs": [],
   "source": [
    "test_case = int(input())\n",
    "\n",
    "for case_number in range(test_case):\n",
    "    h1,m1,h2,m2 = (int(num) for num in input().split())\n",
    "    \n",
    "    calc_h = 0\n",
    "    calc_m = 0\n",
    "\n",
    "    calc_m += (m1 + m2)\n",
    "\n",
    "    if calc_m >=60:\n",
    "        calc_h += 1\n",
    "        calc_m -= 60\n",
    "\n",
    "    calc_h += (h1 + h2)\n",
    "\n",
    "    if calc_h >=24:\n",
    "        calc_h -= 24\n",
    "    elif calc_h >=12 :\n",
    "        calc_h -= 12\n",
    "    \n",
    "    if calc_h == 0:\n",
    "        calc_h = 12\n",
    "\n",
    "    print(f\"#{case_number+1} {calc_h} {calc_m}\")"
   ]
  }
 ],
 "metadata": {
  "kernelspec": {
   "display_name": "Python 3",
   "language": "python",
   "name": "python3"
  },
  "language_info": {
   "codemirror_mode": {
    "name": "ipython",
    "version": 3
   },
   "file_extension": ".py",
   "mimetype": "text/x-python",
   "name": "python",
   "nbconvert_exporter": "python",
   "pygments_lexer": "ipython3",
   "version": "3.7.3"
  }
 },
 "nbformat": 4,
 "nbformat_minor": 2
}
