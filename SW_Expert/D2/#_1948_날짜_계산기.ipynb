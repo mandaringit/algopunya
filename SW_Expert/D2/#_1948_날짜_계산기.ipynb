{
 "cells": [
  {
   "cell_type": "markdown",
   "metadata": {},
   "source": [
    "월 일로 이루어진 날짜를 2개 입력 받아, 두 번째 날짜가 첫 번째 날짜의 며칠째인지 출력하는 프로그램을 작성하라.\n",
    "\n",
    "\n",
    "[제약 사항]\n",
    "\n",
    "월은 1 이상 12 이하의 정수이다. 각 달의 마지막 날짜는 다음과 같다.\n",
    "\n",
    "1/31, 2/28, 3/31, 4/30, 5/31, 6/30, 7/31, 8/31, 9/30, 10/31, 11/30, 12/31\n",
    "\n",
    "두 번째 날짜가 첫 번째 날짜보다 항상 크게 주어진다.\n",
    "\n",
    "\n",
    "[입력]\n",
    "\n",
    "가장 첫 줄에는 테스트 케이스의 개수 T가 주어지고, 그 아래로 각 테스트 케이스가 주어진다.\n",
    "\n",
    "각 테스트 케이스의 첫 번째 줄에는 4개의 수가 주어진다.\n",
    "\n",
    "첫 번째 수가 월을 나타내고 두 번째 수가 일을 나타낸다. 그 다음 같은 형식으로 두 번째 날짜가 주어진다.\n",
    "\n",
    "```\n",
    "3 \n",
    "3 1 3 31\n",
    "5 5 8 15\n",
    "7 17 12 24\n",
    "```\n",
    "\n",
    "\n",
    "[출력]\n",
    "\n",
    "출력의 각 줄은 '#t'로 시작하고, 공백을 한 칸 둔 다음 정답을 출력한다. (t는 테스트 케이스의 번호를 의미하며 1부터 시작한다.)\n",
    "\n",
    "```\n",
    "#1 31\n",
    "#2 103\n",
    "#3 161\n",
    "```"
   ]
  },
  {
   "cell_type": "code",
   "execution_count": null,
   "metadata": {},
   "outputs": [],
   "source": [
    "day_31 = [1,3,5,7,8,10,12]\n",
    "day_30 = [4,6,9,11]\n",
    "\n",
    "case = \"3 1 3 31\"\n",
    "\n",
    "m1,d1,m2,d2 = tuple(map(int,case.split()))\n",
    "\n"
   ]
  }
 ],
 "metadata": {
  "kernelspec": {
   "display_name": "Python 3",
   "language": "python",
   "name": "python3"
  },
  "language_info": {
   "codemirror_mode": {
    "name": "ipython",
    "version": 3
   },
   "file_extension": ".py",
   "mimetype": "text/x-python",
   "name": "python",
   "nbconvert_exporter": "python",
   "pygments_lexer": "ipython3",
   "version": "3.7.3"
  }
 },
 "nbformat": 4,
 "nbformat_minor": 2
}
