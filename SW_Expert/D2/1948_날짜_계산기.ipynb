{
 "cells": [
  {
   "cell_type": "markdown",
   "metadata": {},
   "source": [
    "월 일로 이루어진 날짜를 2개 입력 받아, 두 번째 날짜가 첫 번째 날짜의 며칠째인지 출력하는 프로그램을 작성하라.\n",
    "\n",
    "\n",
    "[제약 사항]\n",
    "\n",
    "월은 1 이상 12 이하의 정수이다. 각 달의 마지막 날짜는 다음과 같다.\n",
    "\n",
    "1/31, 2/28, 3/31, 4/30, 5/31, 6/30, 7/31, 8/31, 9/30, 10/31, 11/30, 12/31\n",
    "\n",
    "두 번째 날짜가 첫 번째 날짜보다 항상 크게 주어진다.\n",
    "\n",
    "\n",
    "[입력]\n",
    "\n",
    "가장 첫 줄에는 테스트 케이스의 개수 T가 주어지고, 그 아래로 각 테스트 케이스가 주어진다.\n",
    "\n",
    "각 테스트 케이스의 첫 번째 줄에는 4개의 수가 주어진다.\n",
    "\n",
    "첫 번째 수가 월을 나타내고 두 번째 수가 일을 나타낸다. 그 다음 같은 형식으로 두 번째 날짜가 주어진다.\n",
    "\n",
    "```\n",
    "3 \n",
    "3 1 3 31\n",
    "5 5 8 15\n",
    "7 17 12 24\n",
    "```\n",
    "\n",
    "\n",
    "[출력]\n",
    "\n",
    "출력의 각 줄은 '#t'로 시작하고, 공백을 한 칸 둔 다음 정답을 출력한다. (t는 테스트 케이스의 번호를 의미하며 1부터 시작한다.)\n",
    "\n",
    "```\n",
    "#1 31\n",
    "#2 103\n",
    "#3 161\n",
    "```"
   ]
  },
  {
   "cell_type": "code",
   "execution_count": 22,
   "metadata": {},
   "outputs": [],
   "source": [
    "days = [31,28,31,30,31,30,31,31,30,31,30,31]\n",
    "\n",
    "case = \"3 1 4 31\"\n",
    "\n",
    "m1,d1,m2,d2 = tuple(map(int,case.split()))"
   ]
  },
  {
   "cell_type": "code",
   "execution_count": 23,
   "metadata": {},
   "outputs": [
    {
     "name": "stdout",
     "output_type": "stream",
     "text": [
      "index => 2, 실제 월 => 3\n",
      "31\n",
      "62\n"
     ]
    }
   ],
   "source": [
    "# m1 == m2 일땐, d2 - d1 + 1 이 원하는 답.\n",
    "\n",
    "# m1 != m2일땐,\n",
    "\n",
    "start_month_index = m1 -1\n",
    "end_month_index = m2 - 1\n",
    "\n",
    "month_total = 0\n",
    "\n",
    "for month_index in range(start_month_index,end_month_index):\n",
    "    print(f\"index => {month_index}, 실제 월 => {month_index+1}\")\n",
    "    month_total += days[month_index]\n",
    "print(month_total)\n",
    "\n",
    "day_gap = d2 - d1\n",
    "\n",
    "total = month_total + day_gap + 1 # 1은 내가보기엔 당일을 포함..? 하는 느낌..? 첫번째 날짜의 1일째니까?\n",
    "print(total)"
   ]
  },
  {
   "cell_type": "code",
   "execution_count": 25,
   "metadata": {},
   "outputs": [
    {
     "name": "stdout",
     "output_type": "stream",
     "text": [
      "1\n",
      "3 1 3 31\n",
      "#1 31\n"
     ]
    }
   ],
   "source": [
    "test_case = int(input())\n",
    "\n",
    "days = [31,28,31,30,31,30,31,31,30,31,30,31]\n",
    "\n",
    "for case_number in range(test_case):\n",
    "    m1,d1,m2,d2 = tuple(map(int,input().split()))\n",
    "    \n",
    "    total = 0\n",
    "    \n",
    "    if m1 == m2:\n",
    "        total = d2 - d1 + 1\n",
    "    else:\n",
    "        start_month_index = m1 -1\n",
    "        end_month_index = m2 - 1\n",
    "        \n",
    "        month_total = 0\n",
    "        for month_index in range(start_month_index,end_month_index):\n",
    "            month_total += days[month_index]\n",
    "\n",
    "        day_gap = d2 - d1\n",
    "\n",
    "        total = month_total + day_gap + 1\n",
    "    \n",
    "    print(f\"#{case_number+1} {total}\")"
   ]
  }
 ],
 "metadata": {
  "kernelspec": {
   "display_name": "Python 3",
   "language": "python",
   "name": "python3"
  },
  "language_info": {
   "codemirror_mode": {
    "name": "ipython",
    "version": 3
   },
   "file_extension": ".py",
   "mimetype": "text/x-python",
   "name": "python",
   "nbconvert_exporter": "python",
   "pygments_lexer": "ipython3",
   "version": "3.7.3"
  }
 },
 "nbformat": 4,
 "nbformat_minor": 2
}
