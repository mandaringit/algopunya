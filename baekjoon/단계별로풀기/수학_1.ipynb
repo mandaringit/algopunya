{
 "cells": [
  {
   "cell_type": "code",
   "execution_count": 5,
   "metadata": {},
   "outputs": [
    {
     "name": "stdout",
     "output_type": "stream",
     "text": [
      "1000 70 170\n",
      "11\n"
     ]
    }
   ],
   "source": [
    "#1712 손익분기점\n",
    "fixed_cost,change_cost,price = tuple(map(int,input().split()))\n",
    "\n",
    "if price - change_cost <= 0:\n",
    "    print(\"-1\")\n",
    "else:\n",
    "    notebook = fixed_cost//(price - change_cost) + 1\n",
    "    print(notebook)"
   ]
  }
 ],
 "metadata": {
  "kernelspec": {
   "display_name": "Python 3",
   "language": "python",
   "name": "python3"
  },
  "language_info": {
   "codemirror_mode": {
    "name": "ipython",
    "version": 3
   },
   "file_extension": ".py",
   "mimetype": "text/x-python",
   "name": "python",
   "nbconvert_exporter": "python",
   "pygments_lexer": "ipython3",
   "version": "3.7.3"
  }
 },
 "nbformat": 4,
 "nbformat_minor": 2
}
