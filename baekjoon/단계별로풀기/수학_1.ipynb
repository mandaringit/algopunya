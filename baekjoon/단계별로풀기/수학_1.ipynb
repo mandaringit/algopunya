{
 "cells": [
  {
   "cell_type": "code",
   "execution_count": 2,
   "metadata": {},
   "outputs": [
    {
     "name": "stdout",
     "output_type": "stream",
     "text": [
      "1000 70 170\n",
      "11\n"
     ]
    }
   ],
   "source": [
    "#1712 손익분기점\n",
    "fixed_cost,change_cost,price = tuple(map(int,input().split()))\n",
    "\n",
    "if price - change_cost <= 0:\n",
    "    print(\"-1\")\n",
    "else:\n",
    "    notebook = fixed_cost//(price - change_cost) + 1\n",
    "    print(notebook)"
   ]
  },
  {
   "cell_type": "code",
   "execution_count": 49,
   "metadata": {},
   "outputs": [
    {
     "name": "stdout",
     "output_type": "stream",
     "text": [
      "12\n",
      "4\n"
     ]
    }
   ],
   "source": [
    "# 2839 설탕배달\n",
    "N = int(input())\n",
    "\n",
    "pack5 = N//5\n",
    "rest = N % 5\n",
    "pack3 = rest // 3\n",
    "full_pack = pack5 * 5 + pack3 * 3\n",
    "result = pack3 + pack5\n",
    "\n",
    "while full_pack != N:\n",
    "    # 5를 하나씩 깎으면서 진행\n",
    "    pack5 = pack5 - 1\n",
    "    rest = rest + 5\n",
    "    pack3 = rest//3\n",
    "    full_pack = pack5 * 5 + pack3 * 3\n",
    "\n",
    "    if pack5 < 0 :\n",
    "        result = -1\n",
    "        break\n",
    "        \n",
    "    if pack5 >= 0 and rest % 3 == 0 :\n",
    "        result = pack3+pack5\n",
    "        break\n",
    "\n",
    "print(result)"
   ]
  },
  {
   "cell_type": "code",
   "execution_count": 94,
   "metadata": {},
   "outputs": [],
   "source": [
    "# 2292 벌집 => 고민 폴더"
   ]
  },
  {
   "cell_type": "code",
   "execution_count": 93,
   "metadata": {},
   "outputs": [],
   "source": [
    "# 1193 분수찾기 => 고민 폴더"
   ]
  },
  {
   "cell_type": "code",
   "execution_count": 96,
   "metadata": {},
   "outputs": [],
   "source": [
    "# 1011 Fly me to the Alpha Centauri => 고민 폴더"
   ]
  },
  {
   "cell_type": "code",
   "execution_count": 154,
   "metadata": {},
   "outputs": [],
   "source": [
    "# 2869 달팽이는 올라가고 싶다 =>  고민폴더 (시간 초과)"
   ]
  },
  {
   "cell_type": "code",
   "execution_count": 153,
   "metadata": {},
   "outputs": [],
   "source": [
    "# 10250 ACM 호텔 => 고민 폴더"
   ]
  },
  {
   "cell_type": "code",
   "execution_count": null,
   "metadata": {},
   "outputs": [],
   "source": [
    "# 2775 부녀회장이 될테야\n",
    "# a 층의 b 호에 살려면 => 아래층 :(a-1)층 의 1호부터 b호까지 사람들의 수의 합만큼 사람들을 데려다 살아야한다.\n",
    "# k,n에 대해 k층의 n호에는 몇명이 살고있나?\n",
    "# 아파트는 0층부터 있고 각층은 1호부터 있고, 0층의 i호에는i명이 산다."
   ]
  }
 ],
 "metadata": {
  "kernelspec": {
   "display_name": "Python 3",
   "language": "python",
   "name": "python3"
  },
  "language_info": {
   "codemirror_mode": {
    "name": "ipython",
    "version": 3
   },
   "file_extension": ".py",
   "mimetype": "text/x-python",
   "name": "python",
   "nbconvert_exporter": "python",
   "pygments_lexer": "ipython3",
   "version": "3.7.3"
  }
 },
 "nbformat": 4,
 "nbformat_minor": 2
}
