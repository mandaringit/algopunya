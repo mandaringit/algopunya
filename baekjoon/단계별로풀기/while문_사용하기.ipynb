{
 "cells": [
  {
   "cell_type": "code",
   "execution_count": 3,
   "metadata": {},
   "outputs": [],
   "source": [
    "import sys\n",
    "\n",
    "while True:\n",
    "    nums = sys.stdin.readline()\n",
    "    if nums == \"\":\n",
    "        break\n",
    "    a,b = tuple(map(int,nums.split()))\n",
    "    print(a+b)"
   ]
  },
  {
   "cell_type": "code",
   "execution_count": 10,
   "metadata": {},
   "outputs": [
    {
     "name": "stdout",
     "output_type": "stream",
     "text": [
      "42\n",
      "26\n"
     ]
    }
   ],
   "source": [
    "str_N = input()\n",
    "N = int(str_N)\n",
    "if N < 10 :\n",
    "    str_N = \"0\" + str_N\n",
    "step1 = int(str_N[0])+int(str_N[1])\n",
    "if step1 < 10:\n",
    "    step1 = \"0\" + str(step1)\n",
    "step2 = str_N[1] + str(step1)[1]\n",
    "print(step2)"
   ]
  },
  {
   "cell_type": "code",
   "execution_count": 3,
   "metadata": {},
   "outputs": [
    {
     "name": "stdout",
     "output_type": "stream",
     "text": [
      "55\n",
      "3\n"
     ]
    }
   ],
   "source": [
    "# 뭐같은 문제\n",
    "cycle = 0\n",
    "given = input()\n",
    "N = given\n",
    "while True:\n",
    "    cycle +=1\n",
    "    N = str(N)\n",
    "    if 0< int(N) < 10 :\n",
    "        N = '0' + N\n",
    "    elif int(N) == 0:\n",
    "        N = '01'\n",
    "    \n",
    "    step1 = str(int(N[0]) + int(N[1]))\n",
    "    \n",
    "    if len(step1) == 1:\n",
    "        step1 = '0' + step1\n",
    "    \n",
    "    result = N[1] + step1[1]\n",
    "    \n",
    "    if int(result) == int(given):\n",
    "        break\n",
    "    \n",
    "    N = int(result)\n",
    "print(cycle)"
   ]
  }
 ],
 "metadata": {
  "kernelspec": {
   "display_name": "Python 3",
   "language": "python",
   "name": "python3"
  },
  "language_info": {
   "codemirror_mode": {
    "name": "ipython",
    "version": 3
   },
   "file_extension": ".py",
   "mimetype": "text/x-python",
   "name": "python",
   "nbconvert_exporter": "python",
   "pygments_lexer": "ipython3",
   "version": "3.7.3"
  }
 },
 "nbformat": 4,
 "nbformat_minor": 2
}
