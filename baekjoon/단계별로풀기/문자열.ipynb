{
 "cells": [
  {
   "cell_type": "code",
   "execution_count": 7,
   "metadata": {},
   "outputs": [
    {
     "name": "stdout",
     "output_type": "stream",
     "text": [
      "5\n",
      "53\n"
     ]
    }
   ],
   "source": [
    "# 아스키 코드\n",
    "char = input()\n",
    "print(ord(char))"
   ]
  },
  {
   "cell_type": "code",
   "execution_count": 10,
   "metadata": {},
   "outputs": [
    {
     "name": "stdout",
     "output_type": "stream",
     "text": [
      "11\n",
      "10987654321\n",
      "46\n"
     ]
    }
   ],
   "source": [
    "T = int(input())\n",
    "snum = input()\n",
    "total = 0\n",
    "for num in snum:\n",
    "    total += int(num)\n",
    "print(total)"
   ]
  },
  {
   "cell_type": "code",
   "execution_count": 14,
   "metadata": {},
   "outputs": [
    {
     "name": "stdout",
     "output_type": "stream",
     "text": [
      "baekjoon\n",
      "1 0 -1 -1 2 -1 -1 -1 -1 4 3 -1 -1 7 5 -1 -1 -1 -1 -1 -1 -1 -1 -1 -1 -1\n"
     ]
    }
   ],
   "source": [
    "S = input()\n",
    "alphabets = 'abcdefghijklmnopqrstuvwxyz'\n",
    "\n",
    "result = ''\n",
    "for alphabet in alphabets:\n",
    "    result += f\"{S.find(alphabet)} \"\n",
    "print(result.rstrip())"
   ]
  },
  {
   "cell_type": "code",
   "execution_count": 20,
   "metadata": {},
   "outputs": [
    {
     "name": "stdout",
     "output_type": "stream",
     "text": [
      "1\n",
      "5 /HTP\n",
      "/////HHHHHTTTTTPPPPP\n"
     ]
    }
   ],
   "source": [
    "T = int(input())\n",
    "for _ in range(T):\n",
    "    num,word = input().split()\n",
    "    result = \"\"\n",
    "    for char in word:\n",
    "        result += char*int(num)\n",
    "    print(result)"
   ]
  },
  {
   "cell_type": "code",
   "execution_count": 35,
   "metadata": {},
   "outputs": [
    {
     "name": "stdout",
     "output_type": "stream",
     "text": [
      "Aaaaz\n",
      "A\n"
     ]
    }
   ],
   "source": [
    "word = input()\n",
    "upper_word = word.upper()\n",
    "\n",
    "word_dict={}\n",
    "\n",
    "for char in upper_word:\n",
    "    if char in word_dict:\n",
    "        word_dict[char] += 1\n",
    "    else:\n",
    "        word_dict[char] = 1\n",
    "        \n",
    "\n",
    "most_char = '?'\n",
    "most_often = 0\n",
    "\n",
    "for key,value in word_dict.items():\n",
    "    if value > most_often:\n",
    "        most_often = value\n",
    "        most_char = key\n",
    "    elif value == most_often:\n",
    "        most_char = '?'\n",
    "\n",
    "print(most_char)"
   ]
  },
  {
   "cell_type": "code",
   "execution_count": 39,
   "metadata": {},
   "outputs": [
    {
     "name": "stdout",
     "output_type": "stream",
     "text": [
      " Mazatneunde Wae Teullyeoyo\n",
      "3\n"
     ]
    }
   ],
   "source": [
    "words = input().strip().split()\n",
    "print(len(words))"
   ]
  },
  {
   "cell_type": "code",
   "execution_count": 43,
   "metadata": {},
   "outputs": [
    {
     "name": "stdout",
     "output_type": "stream",
     "text": [
      "734 893\n",
      "437\n"
     ]
    }
   ],
   "source": [
    "num1,num2 = input().split()\n",
    "rnum1 = int(num1[::-1])\n",
    "rnum2 = int(num2[::-1])\n",
    "print(rnum1) if rnum1>rnum2 else print(rnum2)"
   ]
  },
  {
   "cell_type": "code",
   "execution_count": 47,
   "metadata": {},
   "outputs": [
    {
     "name": "stdout",
     "output_type": "stream",
     "text": [
      "UNUCIC\n",
      "36\n"
     ]
    }
   ],
   "source": [
    "number_list = ['ABC','DEF','GHI','JKL','MNO','PQRS','TUV','WXYZ']\n",
    "word = input()\n",
    "\n",
    "total_time = 0\n",
    "for char in word:\n",
    "    for idx, alphabets in enumerate(number_list):\n",
    "        if char in alphabets:\n",
    "            total_time += idx+3\n",
    "print(total_time)"
   ]
  },
  {
   "cell_type": "code",
   "execution_count": 53,
   "metadata": {},
   "outputs": [
    {
     "name": "stdout",
     "output_type": "stream",
     "text": [
      "2\n"
     ]
    }
   ],
   "source": [
    "# 크로아티아\n",
    "# 간단하게 갯수만 세보기\n",
    "chro_list = [\"c=\",\"c-\",\"dz=\",\"d-\",\"lj\",\"nj\",\"s=\",\"z=\"]\n",
    "\n",
    "word = input()\n",
    "\n",
    "for chro in chro_list:\n",
    "    if chro in word:\n",
    "        word = word.replace(f\"{chro}\",\"0\")\n",
    "print(len(word))"
   ]
  },
  {
   "cell_type": "code",
   "execution_count": 57,
   "metadata": {},
   "outputs": [
    {
     "name": "stdout",
     "output_type": "stream",
     "text": [
      "lješnjak\n"
     ]
    }
   ],
   "source": [
    "# 크로아티아 변경까지 하기\n",
    "chro_dict = {\"c=\":\"č\",\"c-\":\"ć\",\"dz=\":\"dž\",\"d-\":\"đ\",\"lj\":\"lj\",\"nj\":\"nj\",\"s=\":\"š\",\"z=\":\"ž\"}\n",
    "\n",
    "word = \"ljes=njak\"\n",
    "\n",
    "for alpha, chro in chro_dict.items():\n",
    "    if alpha in word:\n",
    "        word = word.replace(f\"{alpha}\", chro)\n",
    "print(word)"
   ]
  },
  {
   "cell_type": "code",
   "execution_count": 80,
   "metadata": {},
   "outputs": [
    {
     "name": "stdout",
     "output_type": "stream",
     "text": [
      "3\n",
      "happy\n",
      "new\n",
      "year\n",
      "3\n"
     ]
    }
   ],
   "source": [
    "# 그룹단어\n",
    "\n",
    "# 그룹단어인가?\n",
    "\n",
    "\n",
    "def isGroupWord(word):\n",
    "    pick_word = word[0]\n",
    "    already_used = set()\n",
    "\n",
    "    for idx,char in enumerate(word):\n",
    "        if char in already_used:\n",
    "            return False\n",
    "        else:\n",
    "            if char != pick_word:\n",
    "                already_used.add(pick_word)\n",
    "                pick_word = char\n",
    "\n",
    "            if idx == len(word)-1:\n",
    "                return True\n",
    "\n",
    "T = int(input())\n",
    "count = 0\n",
    "for _ in range(T):\n",
    "    word = input()\n",
    "    if isGroupWord(word):\n",
    "        count += 1\n",
    "print(count)"
   ]
  }
 ],
 "metadata": {
  "kernelspec": {
   "display_name": "Python 3",
   "language": "python",
   "name": "python3"
  },
  "language_info": {
   "codemirror_mode": {
    "name": "ipython",
    "version": 3
   },
   "file_extension": ".py",
   "mimetype": "text/x-python",
   "name": "python",
   "nbconvert_exporter": "python",
   "pygments_lexer": "ipython3",
   "version": "3.7.3"
  }
 },
 "nbformat": 4,
 "nbformat_minor": 2
}
