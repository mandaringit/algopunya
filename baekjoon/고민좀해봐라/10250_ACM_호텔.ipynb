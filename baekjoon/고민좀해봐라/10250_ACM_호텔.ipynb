{
 "cells": [
  {
   "cell_type": "code",
   "execution_count": 49,
   "metadata": {},
   "outputs": [
    {
     "name": "stdout",
     "output_type": "stream",
     "text": [
      "101 102 103 104 105 106 107 108 109 110 111 112 113 114 115 116 117 118 119 120 121 122 123 124 125 126 127 128 129 130 131 132 133 134 135 136 137 138 139 140 141 142 143 144 145 146 147 148 149 150 151 152 153 154 155 156 157 158 159 160 161 162 163 164 165 166 167 168 169 170 171 172 173 174 175 176 177 178 179 180 181 182 183 184 185 186 187 188 189 190 191 192 193 194 195 196 197 198 199 "
     ]
    }
   ],
   "source": [
    "# 10250 ACM 호텔\n",
    "\n",
    "# 무조건 가까운게 장땡\n",
    "\n",
    "# 왼쪽부터 차곡차곡 채운다.\n",
    "\n",
    "\n",
    "H = 1 # 층수\n",
    "W = 99 # 길이\n",
    "N = 99 # 번째 손님\n",
    "\n",
    "# 호수에 0 붙이기 위한 작업\n",
    "for i in range(1,H*W+1):\n",
    "    N = i\n",
    "    \n",
    "    room = N // H +1 #  몫 : 호수\n",
    "    floor = N % H # 나머지 : 층수 \n",
    "    \n",
    "    # 나머지 == 0이면,\n",
    "    if floor == 0:\n",
    "        # 몫이 호수가 되고,\n",
    "        room = N // H\n",
    "        # 층수는 최상층이 된다.\n",
    "        floor = H\n",
    "    \n",
    "        \n",
    "    user_room_len = len(str(room))\n",
    "    if user_room_len == 1:\n",
    "        room = \"0\" + str(room)\n",
    "\n",
    "    print(f\"{floor}{room}\",end =\" \")"
   ]
  },
  {
   "cell_type": "markdown",
   "metadata": {},
   "source": [
    "![그림_1](img/10250_1.jpg)"
   ]
  },
  {
   "cell_type": "code",
   "execution_count": 48,
   "metadata": {},
   "outputs": [
    {
     "name": "stdout",
     "output_type": "stream",
     "text": [
      "1\n",
      "1 99 99\n",
      "199\n"
     ]
    }
   ],
   "source": [
    "T = int(input())\n",
    "\n",
    "for _ in range(T):\n",
    "    H,W,N = tuple(map(int,input().split()))\n",
    "    \n",
    "    room = N // H +1 #  몫 : 호수\n",
    "    floor = N % H # 나머지 : 층수 \n",
    "    \n",
    "    # 나머지 == 0이면,\n",
    "    if floor == 0:\n",
    "        # 몫이 호수가 되고,\n",
    "        room = N // H\n",
    "        # 층수는 최상층이 된다.\n",
    "        floor = H\n",
    "\n",
    "    user_room_len = len(str(room))\n",
    "    if user_room_len == 1:\n",
    "        room = \"0\" + str(room)\n",
    "    print(f\"{floor}{room}\")"
   ]
  }
 ],
 "metadata": {
  "kernelspec": {
   "display_name": "Python 3",
   "language": "python",
   "name": "python3"
  },
  "language_info": {
   "codemirror_mode": {
    "name": "ipython",
    "version": 3
   },
   "file_extension": ".py",
   "mimetype": "text/x-python",
   "name": "python",
   "nbconvert_exporter": "python",
   "pygments_lexer": "ipython3",
   "version": "3.7.3"
  }
 },
 "nbformat": 4,
 "nbformat_minor": 2
}
