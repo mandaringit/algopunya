{
 "cells": [
  {
   "cell_type": "code",
   "execution_count": null,
   "metadata": {},
   "outputs": [],
   "source": [
    "# 2292 벌집\n",
    "# 모양은 중요하지 않다. 몇번째 겹이냐가 중요하다. \n",
    "# 중앙에서 시작하므로 어디든 결과는 동일하기 때문이다.\n",
    "# 각 겹에 몇번이 들어가느냐를 구해야 한다.\n",
    "\n",
    "# 0번째 => [1] => range(1,2)\n",
    "# 1번째 => [2 ~ 7] 6개 + => range(2,8)\n",
    "# 2번째 => [8 ~ 19] 12개 + => range(8,20)\n",
    "# 3번째 => [20 ~ 37] 18개 + ... => range(20,38)\n",
    "\n",
    "# 그러므로 예로, 1부터 13까지는 0 -> 2번째 겹까지 시작과 끝을 포함하니까 0,1,2 로 3개를 지난다.\n",
    "# 1부터 58 까지는 0 -> 4번째 겹까지, 0,1,2,3,4 로 5개를 지난다.\n",
    "\n",
    "N = int(input())\n",
    "\n",
    "floor = 0\n",
    "gap = 1\n",
    "floor_start = 1\n",
    "floor_end = floor_start + gap\n",
    "while N not in range(floor_start, floor_end):\n",
    "    print(floor,gap,floor_start, floor_end)\n",
    "    floor += 1\n",
    "    floor_start = floor_end\n",
    "    gap = floor * 6\n",
    "    floor_end = floor_start + gap\n",
    "    \n",
    "print(floor+1)"
   ]
  }
 ],
 "metadata": {
  "kernelspec": {
   "display_name": "Python 3",
   "language": "python",
   "name": "python3"
  },
  "language_info": {
   "codemirror_mode": {
    "name": "ipython",
    "version": 3
   },
   "file_extension": ".py",
   "mimetype": "text/x-python",
   "name": "python",
   "nbconvert_exporter": "python",
   "pygments_lexer": "ipython3",
   "version": "3.7.3"
  }
 },
 "nbformat": 4,
 "nbformat_minor": 2
}
