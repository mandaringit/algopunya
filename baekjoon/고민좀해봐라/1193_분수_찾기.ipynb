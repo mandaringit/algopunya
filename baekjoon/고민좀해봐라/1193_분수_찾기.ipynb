{
 "cells": [
  {
   "cell_type": "code",
   "execution_count": 3,
   "metadata": {},
   "outputs": [
    {
     "name": "stdout",
     "output_type": "stream",
     "text": [
      "15\n",
      "몇번째 대각선 ? => 5번째\n",
      "갭 => 3\n",
      "2/4\n"
     ]
    }
   ],
   "source": [
    "#1193 분수찾기\n",
    "# 대각선의 길이는 1 -> 2 -> 3 -> 4 -> .. 이렇게 커진다.\n",
    "\n",
    "# X번째 [i,j]를 구해야 한다.\n",
    "\n",
    "# 먼저 X가 몇번째 대각선 안인지 구한다.\n",
    "# 대각선 이 K번째라고 치면,\n",
    "\n",
    "N = 14 # => [4,1]\n",
    "\n",
    "total = 0\n",
    "K = 1\n",
    "\n",
    "while True:\n",
    "    total += K\n",
    "    if 1<= N <= total:\n",
    "        break\n",
    "    K +=1\n",
    "    \n",
    "print(total)\n",
    "print(f\"몇번째 대각선 ? => {K}번째\")\n",
    "\n",
    "#이제 이 대각선에서 N이 몇번째인지 찾아야 한다.\n",
    "# 보통 시작은 total - K +1 번째.\n",
    "\n",
    "start = total - K + 1\n",
    "\n",
    "# 찾을 수와 대각선 첫번째와의 간격\n",
    "\n",
    "gap = N - start\n",
    "print(f\"갭 => {gap}\")\n",
    "\n",
    "# 대각선이 홀수번째인지 짝수번째인지 구한다\n",
    "# 홀수 대각선은 K부터 1씩 i가 감소하고 j는 1부터 K까지 1씩 증가하는 방향으로 진행된다.\n",
    "# 짝수 대각선은 i가 증가하고 j는 감소하는 방향으로 진행된다. 반대로 보면 된다.\n",
    "\n",
    "# 그 대각선의 시작부터 i,j를 규칙에 따라 증가,감소 시키면서 해당 장소까지 가면 끝.\n",
    "\n",
    "i = j = 0\n",
    "\n",
    "# 짝수\n",
    "if K % 2 == 0 :\n",
    "    i = 1 + gap\n",
    "    j = K - gap\n",
    "# 홀수\n",
    "else:\n",
    "    i = K - gap\n",
    "    j = 1 + gap\n",
    "\n",
    "print(f\"{i}/{j}\")"
   ]
  },
  {
   "cell_type": "code",
   "execution_count": 30,
   "metadata": {},
   "outputs": [
    {
     "name": "stdout",
     "output_type": "stream",
     "text": [
      "1/3\n"
     ]
    }
   ],
   "source": [
    "N = int(input()) # => [4,1]\n",
    "\n",
    "line = 1\n",
    "next_num = 1\n",
    "\n",
    "while N > next_num:\n",
    "    line +=1\n",
    "    next_num += line\n",
    "    \n",
    "line_start = next_num - line + 1\n",
    "gap = N - line_start\n",
    "\n",
    "if line % 2 == 0 :\n",
    "    i = 1 + gap\n",
    "    j = line - gap\n",
    "else:\n",
    "    i = line - gap\n",
    "    j = 1 + gap\n",
    "\n",
    "print(f\"{i}/{j}\")"
   ]
  }
 ],
 "metadata": {
  "kernelspec": {
   "display_name": "Python 3",
   "language": "python",
   "name": "python3"
  },
  "language_info": {
   "codemirror_mode": {
    "name": "ipython",
    "version": 3
   },
   "file_extension": ".py",
   "mimetype": "text/x-python",
   "name": "python",
   "nbconvert_exporter": "python",
   "pygments_lexer": "ipython3",
   "version": "3.7.3"
  }
 },
 "nbformat": 4,
 "nbformat_minor": 2
}
